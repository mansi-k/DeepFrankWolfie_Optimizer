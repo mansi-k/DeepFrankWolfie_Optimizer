{
 "cells": [
  {
   "cell_type": "markdown",
   "metadata": {
    "id": "6q5a6y-LFwJQ"
   },
   "source": [
    "# Training DenseNet on Cifar10 using ADAM"
   ]
  },
  {
   "cell_type": "code",
   "execution_count": null,
   "metadata": {
    "colab": {
     "base_uri": "https://localhost:8080/"
    },
    "executionInfo": {
     "elapsed": 1590,
     "status": "ok",
     "timestamp": 1619874870557,
     "user": {
      "displayName": "Mansi Khamkar",
      "photoUrl": "",
      "userId": "07087059808651280926"
     },
     "user_tz": -330
    },
    "id": "8RhnLkxuxe_m",
    "outputId": "350948c5-e0fe-414c-dd73-1c3d3829f3c5"
   },
   "outputs": [
    {
     "name": "stdout",
     "output_type": "stream",
     "text": [
      "Mounted at /content/drive\n",
      "/content/drive/.shortcut-targets-by-id/1rxvBmpHEy23c0WZ6V3NFhmsmCCJ4quW5/DL_project\n",
      "/content/drive/.shortcut-targets-by-id/1rxvBmpHEy23c0WZ6V3NFhmsmCCJ4quW5/DL_project\n"
     ]
    }
   ],
   "source": [
    "from google.colab import drive\n",
    "drive.mount('/content/drive', force_remount=True)\n",
    "%cd /content/drive/MyDrive/DL_project/\n",
    "!pwd"
   ]
  },
  {
   "cell_type": "code",
   "execution_count": null,
   "metadata": {
    "id": "aD3z7C8Wxvmb"
   },
   "outputs": [],
   "source": [
    "import torch\n",
    "import torch.nn as nn\n",
    "import torchvision\n",
    "import numpy as np\n",
    "import matplotlib.pyplot as plt\n",
    "import torch.nn as nn\n",
    "import torch.nn.functional as F\n",
    "from torchvision.datasets import CIFAR10\n",
    "from torchvision.datasets import CIFAR100\n",
    "from torch.utils.data.dataloader import DataLoader\n",
    "from torchvision.transforms import *\n",
    "import os\n",
    "import time\n",
    "import gc\n",
    "import shutil\n",
    "import h5py\n",
    "\n",
    "from dfw.dfw import DFW\n",
    "from dfw.dfw.losses import set_smoothing_enabled\n",
    "from dfw.dfw.losses import MultiClassHingeLoss\n",
    "from dfw.experiments.models.densenet import DenseNet3\n",
    "from dfw.experiments.models.wide_resnet import WideResNet\n",
    "\n",
    "from train_utils import *"
   ]
  },
  {
   "cell_type": "code",
   "execution_count": null,
   "metadata": {
    "colab": {
     "base_uri": "https://localhost:8080/"
    },
    "executionInfo": {
     "elapsed": 15986,
     "status": "ok",
     "timestamp": 1619874897880,
     "user": {
      "displayName": "Mansi Khamkar",
      "photoUrl": "",
      "userId": "07087059808651280926"
     },
     "user_tz": -330
    },
    "id": "ikw6QVQ1x1Hg",
    "outputId": "3600b1a6-fb10-482c-df4d-a5f82261dc65"
   },
   "outputs": [
    {
     "name": "stdout",
     "output_type": "stream",
     "text": [
      "Files already downloaded and verified\n",
      "50000 10000\n",
      "Files already downloaded and verified\n",
      "50000 10000\n"
     ]
    }
   ],
   "source": [
    "transform = transforms.Compose([transforms.ToTensor(),\n",
    "     transforms.Normalize((0.5, 0.5, 0.5), (0.5, 0.5, 0.5))])\n",
    "os.makedirs(\"data/cifar\", exist_ok=True)\n",
    "train_dataset_10 = CIFAR10(root='data/cifar', download=True, transform=transform)\n",
    "test_dataset_10 = CIFAR10(root='data/cifar', train=False, transform=transform)\n",
    "print(len(train_dataset_10), len(test_dataset_10))\n",
    "\n",
    "train_dataset_100 = CIFAR100(root='data/cifar', download=True, transform=transform)\n",
    "test_dataset_100 = CIFAR100(root='data/cifar', train=False, transform=transform)\n",
    "print(len(train_dataset_100), len(test_dataset_100))"
   ]
  },
  {
   "cell_type": "code",
   "execution_count": null,
   "metadata": {
    "colab": {
     "base_uri": "https://localhost:8080/"
    },
    "executionInfo": {
     "elapsed": 24858063,
     "status": "ok",
     "timestamp": 1619899840667,
     "user": {
      "displayName": "Mansi Khamkar",
      "photoUrl": "",
      "userId": "07087059808651280926"
     },
     "user_tz": -330
    },
    "id": "ISYgKg5rx2KK",
    "outputId": "5b18ead4-5824-46ca-b4e2-85ddbf5fd5ec"
   },
   "outputs": [
    {
     "name": "stdout",
     "output_type": "stream",
     "text": [
      "cuda Tesla T4\n",
      "Epoch:0   Loss:1.215   Val loss:0.956   Accuracy:66.013   Best val loss:0.956   Time taken:243.626\n",
      "Epoch:1   Loss:0.791   Val loss:0.794   Accuracy:72.691   Best val loss:0.794   Time taken:248.374\n",
      "Epoch:2   Loss:0.612   Val loss:0.681   Accuracy:77.04   Best val loss:0.681   Time taken:251.281\n",
      "Epoch:3   Loss:0.504   Val loss:0.646   Accuracy:77.438   Best val loss:0.646   Time taken:249.999\n",
      "Epoch:4   Loss:0.436   Val loss:0.502   Accuracy:82.793   Best val loss:0.502   Time taken:249.228\n",
      "Epoch:5   Loss:0.392   Val loss:0.478   Accuracy:83.788   Best val loss:0.478   Time taken:249.024\n",
      "Epoch:6   Loss:0.348   Val loss:0.486   Accuracy:83.151   Best val loss:0.478   Time taken:248.773\n",
      "Epoch:7   Loss:0.312   Val loss:0.425   Accuracy:85.609   Best val loss:0.425   Time taken:248.308\n",
      "Epoch:8   Loss:0.284   Val loss:0.489   Accuracy:83.897   Best val loss:0.425   Time taken:250.166\n",
      "Epoch:9   Loss:0.265   Val loss:0.427   Accuracy:85.38   Best val loss:0.425   Time taken:252.214\n",
      "Epoch:10   Loss:0.237   Val loss:0.442   Accuracy:85.46   Best val loss:0.425   Time taken:253.206\n",
      "Epoch:11   Loss:0.211   Val loss:0.469   Accuracy:85.48   Best val loss:0.425   Time taken:252.288\n",
      "Epoch:12   Loss:0.201   Val loss:0.462   Accuracy:84.853   Best val loss:0.425   Time taken:248.536\n",
      "Epoch:13   Loss:0.183   Val loss:0.409   Accuracy:86.764   Best val loss:0.409   Time taken:249.049\n",
      "Epoch:14   Loss:0.175   Val loss:0.395   Accuracy:87.142   Best val loss:0.395   Time taken:249.536\n",
      "Epoch:15   Loss:0.158   Val loss:0.389   Accuracy:87.331   Best val loss:0.389   Time taken:249.659\n",
      "Epoch:16   Loss:0.15   Val loss:0.471   Accuracy:86.246   Best val loss:0.389   Time taken:251.283\n",
      "Epoch:17   Loss:0.147   Val loss:0.448   Accuracy:86.355   Best val loss:0.389   Time taken:248.982\n",
      "Epoch:18   Loss:0.134   Val loss:0.408   Accuracy:87.5   Best val loss:0.389   Time taken:248.408\n",
      "Epoch:19   Loss:0.125   Val loss:0.423   Accuracy:86.973   Best val loss:0.389   Time taken:248.237\n",
      "Epoch:20   Loss:0.123   Val loss:0.445   Accuracy:87.251   Best val loss:0.389   Time taken:250.382\n",
      "Epoch:21   Loss:0.121   Val loss:0.421   Accuracy:87.381   Best val loss:0.389   Time taken:248.689\n",
      "Epoch:22   Loss:0.112   Val loss:0.52   Accuracy:85.38   Best val loss:0.389   Time taken:248.46\n",
      "Epoch:23   Loss:0.11   Val loss:0.41   Accuracy:87.749   Best val loss:0.389   Time taken:247.768\n",
      "Epoch:24   Loss:0.103   Val loss:0.464   Accuracy:87.241   Best val loss:0.389   Time taken:247.44\n",
      "Epoch:25   Loss:0.101   Val loss:0.439   Accuracy:87.6   Best val loss:0.389   Time taken:247.355\n",
      "Epoch:26   Loss:0.098   Val loss:0.532   Accuracy:85.181   Best val loss:0.389   Time taken:246.941\n",
      "Epoch:27   Loss:0.101   Val loss:0.45   Accuracy:87.002   Best val loss:0.389   Time taken:246.604\n",
      "Epoch:28   Loss:0.094   Val loss:0.482   Accuracy:86.883   Best val loss:0.389   Time taken:246.433\n",
      "Epoch:29   Loss:0.096   Val loss:0.445   Accuracy:87.152   Best val loss:0.389   Time taken:246.122\n",
      "Epoch:30   Loss:0.092   Val loss:0.498   Accuracy:86.883   Best val loss:0.389   Time taken:245.748\n",
      "Epoch:31   Loss:0.086   Val loss:0.466   Accuracy:87.012   Best val loss:0.389   Time taken:246.178\n",
      "Epoch:32   Loss:0.085   Val loss:0.464   Accuracy:87.072   Best val loss:0.389   Time taken:245.522\n",
      "Epoch:33   Loss:0.087   Val loss:0.497   Accuracy:86.525   Best val loss:0.389   Time taken:245.074\n",
      "Epoch:34   Loss:0.088   Val loss:0.455   Accuracy:87.639   Best val loss:0.389   Time taken:245.197\n",
      "Epoch:35   Loss:0.086   Val loss:0.483   Accuracy:87.162   Best val loss:0.389   Time taken:245.211\n",
      "Epoch:36   Loss:0.078   Val loss:0.469   Accuracy:87.331   Best val loss:0.389   Time taken:245.533\n",
      "Epoch:37   Loss:0.078   Val loss:0.488   Accuracy:87.132   Best val loss:0.389   Time taken:247.645\n",
      "Epoch:38   Loss:0.08   Val loss:0.461   Accuracy:87.102   Best val loss:0.389   Time taken:245.362\n",
      "Epoch:39   Loss:0.081   Val loss:0.448   Accuracy:88.027   Best val loss:0.389   Time taken:245.864\n",
      "Epoch:40   Loss:0.079   Val loss:0.433   Accuracy:88.037   Best val loss:0.389   Time taken:247.597\n",
      "Epoch:41   Loss:0.08   Val loss:0.442   Accuracy:87.609   Best val loss:0.389   Time taken:248.492\n",
      "Epoch:42   Loss:0.075   Val loss:0.412   Accuracy:88.296   Best val loss:0.389   Time taken:246.403\n",
      "Epoch:43   Loss:0.075   Val loss:0.455   Accuracy:87.331   Best val loss:0.389   Time taken:246.243\n",
      "Epoch:44   Loss:0.076   Val loss:0.47   Accuracy:87.321   Best val loss:0.389   Time taken:245.969\n",
      "Epoch:45   Loss:0.072   Val loss:0.442   Accuracy:88.207   Best val loss:0.389   Time taken:246.403\n",
      "Epoch:46   Loss:0.073   Val loss:0.469   Accuracy:87.49   Best val loss:0.389   Time taken:243.527\n",
      "Epoch:47   Loss:0.07   Val loss:0.482   Accuracy:87.351   Best val loss:0.389   Time taken:245.645\n",
      "Epoch:48   Loss:0.069   Val loss:0.507   Accuracy:86.555   Best val loss:0.389   Time taken:247.174\n",
      "Epoch:49   Loss:0.073   Val loss:0.474   Accuracy:87.311   Best val loss:0.389   Time taken:248.359\n",
      "Epoch:50   Loss:0.072   Val loss:0.469   Accuracy:87.43   Best val loss:0.389   Time taken:249.971\n",
      "Epoch:51   Loss:0.068   Val loss:0.479   Accuracy:87.769   Best val loss:0.389   Time taken:248.891\n",
      "Epoch:52   Loss:0.072   Val loss:0.462   Accuracy:87.888   Best val loss:0.389   Time taken:248.632\n",
      "Epoch:53   Loss:0.067   Val loss:0.469   Accuracy:87.799   Best val loss:0.389   Time taken:249.168\n",
      "Epoch:54   Loss:0.07   Val loss:0.448   Accuracy:87.828   Best val loss:0.389   Time taken:249.061\n",
      "Epoch:55   Loss:0.071   Val loss:0.445   Accuracy:88.107   Best val loss:0.389   Time taken:250.423\n",
      "Epoch:56   Loss:0.063   Val loss:0.475   Accuracy:87.43   Best val loss:0.389   Time taken:251.445\n",
      "Epoch:57   Loss:0.064   Val loss:0.503   Accuracy:87.261   Best val loss:0.389   Time taken:248.303\n",
      "Epoch:58   Loss:0.065   Val loss:0.436   Accuracy:88.306   Best val loss:0.389   Time taken:248.145\n",
      "Epoch:59   Loss:0.066   Val loss:0.469   Accuracy:87.669   Best val loss:0.389   Time taken:248.22\n",
      "Epoch:60   Loss:0.065   Val loss:0.462   Accuracy:87.868   Best val loss:0.389   Time taken:245.978\n",
      "Epoch:61   Loss:0.067   Val loss:0.525   Accuracy:86.883   Best val loss:0.389   Time taken:245.205\n",
      "Epoch:62   Loss:0.064   Val loss:0.54   Accuracy:86.137   Best val loss:0.389   Time taken:245.563\n",
      "Epoch:63   Loss:0.065   Val loss:0.466   Accuracy:87.729   Best val loss:0.389   Time taken:242.977\n",
      "Epoch:64   Loss:0.063   Val loss:0.494   Accuracy:87.749   Best val loss:0.389   Time taken:242.181\n",
      "Epoch:65   Loss:0.072   Val loss:0.471   Accuracy:87.6   Best val loss:0.389   Time taken:242.252\n",
      "Epoch:66   Loss:0.06   Val loss:0.5   Accuracy:86.953   Best val loss:0.389   Time taken:244.596\n",
      "Epoch:67   Loss:0.066   Val loss:0.444   Accuracy:88.147   Best val loss:0.389   Time taken:248.191\n",
      "Epoch:68   Loss:0.06   Val loss:0.478   Accuracy:87.59   Best val loss:0.389   Time taken:246.047\n",
      "Epoch:69   Loss:0.064   Val loss:0.49   Accuracy:87.49   Best val loss:0.389   Time taken:246.307\n",
      "Epoch:70   Loss:0.06   Val loss:0.503   Accuracy:87.41   Best val loss:0.389   Time taken:249.948\n",
      "Epoch:71   Loss:0.067   Val loss:0.547   Accuracy:86.355   Best val loss:0.389   Time taken:251.135\n",
      "Epoch:72   Loss:0.06   Val loss:0.446   Accuracy:88.336   Best val loss:0.389   Time taken:250.611\n",
      "Epoch:73   Loss:0.059   Val loss:0.452   Accuracy:88.097   Best val loss:0.389   Time taken:250.847\n",
      "Epoch:74   Loss:0.066   Val loss:0.487   Accuracy:87.47   Best val loss:0.389   Time taken:250.807\n",
      "Epoch:75   Loss:0.055   Val loss:0.469   Accuracy:87.908   Best val loss:0.389   Time taken:250.457\n",
      "Epoch:76   Loss:0.061   Val loss:0.553   Accuracy:86.007   Best val loss:0.389   Time taken:250.419\n",
      "Epoch:77   Loss:0.063   Val loss:0.455   Accuracy:87.699   Best val loss:0.389   Time taken:250.325\n",
      "Epoch:78   Loss:0.065   Val loss:0.592   Accuracy:85.549   Best val loss:0.389   Time taken:250.26\n",
      "Epoch:79   Loss:0.056   Val loss:0.5   Accuracy:87.43   Best val loss:0.389   Time taken:250.481\n",
      "Epoch:80   Loss:0.059   Val loss:0.493   Accuracy:87.749   Best val loss:0.389   Time taken:249.885\n",
      "Epoch:81   Loss:0.06   Val loss:0.491   Accuracy:87.201   Best val loss:0.389   Time taken:250.846\n",
      "Epoch:82   Loss:0.06   Val loss:0.484   Accuracy:87.41   Best val loss:0.389   Time taken:250.151\n",
      "Epoch:83   Loss:0.054   Val loss:0.461   Accuracy:88.187   Best val loss:0.389   Time taken:249.952\n",
      "Epoch:84   Loss:0.063   Val loss:0.574   Accuracy:85.987   Best val loss:0.389   Time taken:249.867\n",
      "Epoch:85   Loss:0.061   Val loss:0.538   Accuracy:86.425   Best val loss:0.389   Time taken:250.186\n",
      "Epoch:86   Loss:0.052   Val loss:0.457   Accuracy:88.127   Best val loss:0.389   Time taken:250.168\n",
      "Epoch:87   Loss:0.062   Val loss:0.48   Accuracy:87.729   Best val loss:0.389   Time taken:250.119\n",
      "Epoch:88   Loss:0.063   Val loss:0.592   Accuracy:86.037   Best val loss:0.389   Time taken:249.976\n",
      "Epoch:89   Loss:0.061   Val loss:0.461   Accuracy:88.087   Best val loss:0.389   Time taken:250.285\n",
      "Epoch:90   Loss:0.05   Val loss:0.526   Accuracy:86.236   Best val loss:0.389   Time taken:249.872\n",
      "Epoch:91   Loss:0.064   Val loss:0.506   Accuracy:87.45   Best val loss:0.389   Time taken:250.192\n",
      "Epoch:92   Loss:0.055   Val loss:0.471   Accuracy:87.948   Best val loss:0.389   Time taken:250.197\n",
      "Epoch:93   Loss:0.061   Val loss:0.431   Accuracy:88.625   Best val loss:0.389   Time taken:250.354\n",
      "Epoch:94   Loss:0.053   Val loss:0.451   Accuracy:88.217   Best val loss:0.389   Time taken:250.351\n",
      "Epoch:95   Loss:0.057   Val loss:0.462   Accuracy:88.067   Best val loss:0.389   Time taken:250.732\n",
      "Epoch:96   Loss:0.059   Val loss:0.45   Accuracy:88.306   Best val loss:0.389   Time taken:250.39\n",
      "Epoch:97   Loss:0.057   Val loss:0.541   Accuracy:86.465   Best val loss:0.389   Time taken:250.51\n",
      "Epoch:98   Loss:0.061   Val loss:0.479   Accuracy:87.689   Best val loss:0.389   Time taken:246.798\n",
      "Epoch:99   Loss:0.055   Val loss:0.451   Accuracy:88.127   Best val loss:0.389   Time taken:244.775\n"
     ]
    },
    {
     "data": {
      "image/png": "[encoded data removed]",
      "text/plain": [
       "<Figure size 432x288 with 1 Axes>"
      ]
     },
     "metadata": {
      "needs_background": "light",
      "tags": []
     },
     "output_type": "display_data"
    },
    {
     "data": {
      "image/png": "[encoded data removed]",
      "text/plain": [
       "<Figure size 432x288 with 1 Axes>"
      ]
     },
     "metadata": {
      "needs_background": "light",
      "tags": []
     },
     "output_type": "display_data"
    },
    {
     "name": "stdout",
     "output_type": "stream",
     "text": [
      "Best epoch: 15\n"
     ]
    }
   ],
   "source": [
    "trainer = Net_Trainer(device, 'dn', 'dn_adam_c10', train_dataset_10, test_dataset_10, lr=0.001, optm='adam', loss='ce', batch_size=64, epochs=100, \n",
    "                      weight_decay=1e-4, smooth=False)\n",
    "best_epoch, losses, errors, accs = trainer.train()\n",
    "plot_train(losses, errors, accs)\n",
    "print('Best epoch:',best_epoch)"
   ]
  }
 ],
 "metadata": {
  "accelerator": "GPU",
  "colab": {
   "name": "dn_adam_c10.ipynb",
   "provenance": []
  },
  "kernelspec": {
   "display_name": "Python 3",
   "language": "python",
   "name": "python3"
  },
  "language_info": {
   "codemirror_mode": {
    "name": "ipython",
    "version": 3
   },
   "file_extension": ".py",
   "mimetype": "text/x-python",
   "name": "python",
   "nbconvert_exporter": "python",
   "pygments_lexer": "ipython3",
   "version": "3.6.5"
  }
 },
 "nbformat": 4,
 "nbformat_minor": 1
}
