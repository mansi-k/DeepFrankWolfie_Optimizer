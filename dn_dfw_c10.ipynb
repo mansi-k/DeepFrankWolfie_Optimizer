{
 "cells": [
  {
   "cell_type": "markdown",
   "metadata": {
    "id": "6q5a6y-LFwJQ"
   },
   "source": [
    "# Training DenseNet on Cifar10 using DFW"
   ]
  },
  {
   "cell_type": "code",
   "execution_count": null,
   "metadata": {
    "colab": {
     "base_uri": "https://localhost:8080/"
    },
    "executionInfo": {
     "elapsed": 2322,
     "status": "ok",
     "timestamp": 1619345961736,
     "user": {
      "displayName": "Revati Khamkar",
      "photoUrl": "",
      "userId": "09373875131750117156"
     },
     "user_tz": -330
    },
    "id": "8RhnLkxuxe_m",
    "outputId": "41c8614f-ca68-46ba-96d0-5df282ab00cc"
   },
   "outputs": [
    {
     "name": "stdout",
     "output_type": "stream",
     "text": [
      "Mounted at /content/drive\n",
      "/content/drive/MyDrive/DL_project\n",
      "/content/drive/MyDrive/DL_project\n"
     ]
    }
   ],
   "source": [
    "from google.colab import drive\n",
    "drive.mount('/content/drive', force_remount=True)\n",
    "%cd /content/drive/MyDrive/DL_project/\n",
    "!pwd"
   ]
  },
  {
   "cell_type": "code",
   "execution_count": null,
   "metadata": {
    "id": "aD3z7C8Wxvmb"
   },
   "outputs": [],
   "source": [
    "import torch\n",
    "import torch.nn as nn\n",
    "import torchvision\n",
    "import numpy as np\n",
    "import matplotlib.pyplot as plt\n",
    "import torch.nn as nn\n",
    "import torch.nn.functional as F\n",
    "from torchvision.datasets import CIFAR10\n",
    "from torchvision.datasets import CIFAR100\n",
    "from torch.utils.data.dataloader import DataLoader\n",
    "from torchvision.transforms import *\n",
    "import os\n",
    "import time\n",
    "import gc\n",
    "import shutil\n",
    "import h5py\n",
    "\n",
    "from dfw.dfw import DFW\n",
    "from dfw.dfw.losses import set_smoothing_enabled\n",
    "from dfw.dfw.losses import MultiClassHingeLoss\n",
    "from dfw.experiments.models.densenet import DenseNet3\n",
    "from dfw.experiments.models.wide_resnet import WideResNet\n",
    "\n",
    "from train_utils import *"
   ]
  },
  {
   "cell_type": "code",
   "execution_count": null,
   "metadata": {
    "colab": {
     "base_uri": "https://localhost:8080/"
    },
    "executionInfo": {
     "elapsed": 5304,
     "status": "ok",
     "timestamp": 1619345984759,
     "user": {
      "displayName": "Revati Khamkar",
      "photoUrl": "",
      "userId": "09373875131750117156"
     },
     "user_tz": -330
    },
    "id": "ikw6QVQ1x1Hg",
    "outputId": "a94d5262-1ee2-447b-b1f1-6bc89c436360"
   },
   "outputs": [
    {
     "name": "stdout",
     "output_type": "stream",
     "text": [
      "Files already downloaded and verified\n",
      "50000 10000\n",
      "Files already downloaded and verified\n",
      "50000 10000\n"
     ]
    }
   ],
   "source": [
    "transform = transforms.Compose([transforms.ToTensor(),\n",
    "     transforms.Normalize((0.5, 0.5, 0.5), (0.5, 0.5, 0.5))])\n",
    "os.makedirs(\"data/cifar\", exist_ok=True)\n",
    "train_dataset_10 = CIFAR10(root='data/cifar', download=True, transform=transform)\n",
    "test_dataset_10 = CIFAR10(root='data/cifar', train=False, transform=transform)\n",
    "print(len(train_dataset_10), len(test_dataset_10))\n",
    "\n",
    "train_dataset_100 = CIFAR100(root='data/cifar', download=True, transform=transform)\n",
    "test_dataset_100 = CIFAR100(root='data/cifar', train=False, transform=transform)\n",
    "print(len(train_dataset_100), len(test_dataset_100))"
   ]
  },
  {
   "cell_type": "code",
   "execution_count": null,
   "metadata": {
    "colab": {
     "base_uri": "https://localhost:8080/"
    },
    "id": "ISYgKg5rx2KK",
    "outputId": "2bb7a450-21d8-48e5-b0f0-ae60e16770eb"
   },
   "outputs": [
    {
     "name": "stdout",
     "output_type": "stream",
     "text": [
      "cuda Tesla T4\n",
      "Epoch:0   Loss:0.719   Val loss:1.282   Accuracy:54.409   Best val loss:1.282   Time taken:268.872\n",
      "Epoch:1   Loss:0.433   Val loss:0.775   Accuracy:70.362   Best val loss:0.775   Time taken:266.809\n",
      "Epoch:2   Loss:0.325   Val loss:0.563   Accuracy:78.493   Best val loss:0.563   Time taken:266.011\n",
      "Epoch:3   Loss:0.27   Val loss:0.51   Accuracy:80.394   Best val loss:0.51   Time taken:265.604\n",
      "Epoch:4   Loss:0.237   Val loss:0.485   Accuracy:81.34   Best val loss:0.485   Time taken:268.037\n",
      "Epoch:5   Loss:0.21   Val loss:0.447   Accuracy:82.643   Best val loss:0.447   Time taken:268.934\n",
      "Epoch:6   Loss:0.191   Val loss:0.495   Accuracy:81.927   Best val loss:0.447   Time taken:268.501\n",
      "Epoch:7   Loss:0.174   Val loss:0.481   Accuracy:81.967   Best val loss:0.447   Time taken:268.494\n",
      "Epoch:8   Loss:0.16   Val loss:0.453   Accuracy:83.489   Best val loss:0.447   Time taken:265.39\n",
      "Epoch:9   Loss:0.151   Val loss:0.481   Accuracy:81.618   Best val loss:0.447   Time taken:262.639\n",
      "Epoch:10   Loss:0.144   Val loss:0.44   Accuracy:83.688   Best val loss:0.44   Time taken:265.029\n",
      "Epoch:11   Loss:0.128   Val loss:0.41   Accuracy:84.674   Best val loss:0.41   Time taken:267.352\n",
      "Epoch:12   Loss:0.12   Val loss:0.499   Accuracy:82.454   Best val loss:0.41   Time taken:266.988\n",
      "Epoch:13   Loss:0.114   Val loss:0.39   Accuracy:85.669   Best val loss:0.39   Time taken:266.778\n",
      "Epoch:14   Loss:0.104   Val loss:0.384   Accuracy:85.639   Best val loss:0.384   Time taken:265.683\n",
      "Epoch:15   Loss:0.094   Val loss:0.417   Accuracy:85.161   Best val loss:0.384   Time taken:261.078\n",
      "Epoch:16   Loss:0.084   Val loss:0.413   Accuracy:84.853   Best val loss:0.384   Time taken:260.686\n",
      "Epoch:17   Loss:0.065   Val loss:0.374   Accuracy:86.624   Best val loss:0.374   Time taken:261.155\n",
      "Epoch:18   Loss:0.045   Val loss:0.358   Accuracy:87.679   Best val loss:0.358   Time taken:260.931\n",
      "Epoch:19   Loss:0.027   Val loss:0.327   Accuracy:88.426   Best val loss:0.327   Time taken:261.036\n",
      "Epoch:20   Loss:0.016   Val loss:0.298   Accuracy:89.66   Best val loss:0.298   Time taken:262.815\n",
      "Epoch:21   Loss:0.01   Val loss:0.296   Accuracy:89.411   Best val loss:0.296   Time taken:266.828\n",
      "Epoch:22   Loss:0.007   Val loss:0.28   Accuracy:89.988   Best val loss:0.28   Time taken:268.971\n",
      "Epoch:23   Loss:0.005   Val loss:0.275   Accuracy:90.117   Best val loss:0.275   Time taken:269.056\n",
      "Epoch:24   Loss:0.003   Val loss:0.269   Accuracy:90.117   Best val loss:0.269   Time taken:267.989\n",
      "Epoch:25   Loss:0.003   Val loss:0.26   Accuracy:90.645   Best val loss:0.26   Time taken:270.63\n",
      "Epoch:26   Loss:0.002   Val loss:0.262   Accuracy:90.476   Best val loss:0.26   Time taken:270.822\n",
      "Epoch:27   Loss:0.002   Val loss:0.261   Accuracy:90.456   Best val loss:0.26   Time taken:270.448\n",
      "Epoch:28   Loss:0.002   Val loss:0.256   Accuracy:90.665   Best val loss:0.256   Time taken:270.46\n",
      "Epoch:29   Loss:0.001   Val loss:0.249   Accuracy:90.943   Best val loss:0.249   Time taken:269.788\n",
      "Epoch:30   Loss:0.002   Val loss:0.245   Accuracy:91.152   Best val loss:0.245   Time taken:270.056\n",
      "Epoch:31   Loss:0.001   Val loss:0.243   Accuracy:91.113   Best val loss:0.243   Time taken:269.493\n",
      "Epoch:32   Loss:0.001   Val loss:0.246   Accuracy:90.934   Best val loss:0.243   Time taken:270.152\n",
      "Epoch:33   Loss:0.001   Val loss:0.245   Accuracy:91.103   Best val loss:0.243   Time taken:269.487\n",
      "Epoch:34   Loss:0.001   Val loss:0.244   Accuracy:90.904   Best val loss:0.243   Time taken:269.69\n",
      "Epoch:35   Loss:0.001   Val loss:0.241   Accuracy:91.003   Best val loss:0.241   Time taken:269.83\n",
      "Epoch:36   Loss:0.001   Val loss:0.241   Accuracy:91.073   Best val loss:0.241   Time taken:269.884\n",
      "Epoch:37   Loss:0.001   Val loss:0.246   Accuracy:90.665   Best val loss:0.241   Time taken:270.144\n",
      "Epoch:38   Loss:0.001   Val loss:0.239   Accuracy:90.904   Best val loss:0.239   Time taken:270.063\n"
     ]
    }
   ],
   "source": [
    "trainer = Net_Trainer(device, 'dn', 'dn_dfw_c10', train_dataset_10, test_dataset_10, lr=0.1, optm='dfw', \n",
    "                      loss='svm', batch_size=64, epochs=100, weight_decay=1e-4, smooth=True, mom=0.9)\n",
    "best_epoch, losses, errors, accs = trainer.train()\n",
    "plot_train(losses, errors, accs)\n",
    "print('Best epoch:',best_epoch)"
   ]
  },
  {
   "cell_type": "code",
   "execution_count": null,
   "metadata": {
    "colab": {
     "base_uri": "https://localhost:8080/",
     "height": 1000
    },
    "executionInfo": {
     "elapsed": 15819569,
     "status": "error",
     "timestamp": 1619345786402,
     "user": {
      "displayName": "Revati Khamkar",
      "photoUrl": "",
      "userId": "09373875131750117156"
     },
     "user_tz": -330
    },
    "id": "XtJI78tMk-t1",
    "outputId": "3e35af91-c45e-493d-9a1e-136a257d3014"
   },
   "outputs": [
    {
     "name": "stdout",
     "output_type": "stream",
     "text": [
      "cuda Tesla T4\n",
      "Epoch:39   Loss:0.001   Val loss:0.237   Accuracy:91.113   Best val loss:0.237   Time taken:256.096\n",
      "Epoch:40   Loss:0.001   Val loss:0.235   Accuracy:90.983   Best val loss:0.235   Time taken:260.003\n",
      "Epoch:41   Loss:0.001   Val loss:0.242   Accuracy:90.764   Best val loss:0.235   Time taken:261.86\n",
      "Epoch:42   Loss:0.001   Val loss:0.236   Accuracy:91.053   Best val loss:0.235   Time taken:261.405\n",
      "Epoch:43   Loss:0.001   Val loss:0.238   Accuracy:90.834   Best val loss:0.235   Time taken:258.023\n",
      "Epoch:44   Loss:0.001   Val loss:0.235   Accuracy:90.983   Best val loss:0.235   Time taken:261.314\n",
      "Epoch:45   Loss:0.001   Val loss:0.234   Accuracy:91.013   Best val loss:0.234   Time taken:258.75\n",
      "Epoch:46   Loss:0.001   Val loss:0.237   Accuracy:90.983   Best val loss:0.234   Time taken:256.958\n",
      "Epoch:47   Loss:0.001   Val loss:0.23   Accuracy:91.262   Best val loss:0.23   Time taken:257.383\n",
      "Epoch:48   Loss:0.001   Val loss:0.228   Accuracy:91.381   Best val loss:0.228   Time taken:257.273\n",
      "Epoch:49   Loss:0.001   Val loss:0.231   Accuracy:91.053   Best val loss:0.228   Time taken:257.024\n",
      "Epoch:50   Loss:0.001   Val loss:0.234   Accuracy:90.904   Best val loss:0.228   Time taken:257.373\n",
      "Epoch:51   Loss:0.001   Val loss:0.231   Accuracy:91.003   Best val loss:0.228   Time taken:257.621\n",
      "Epoch:52   Loss:0.001   Val loss:0.232   Accuracy:90.764   Best val loss:0.228   Time taken:258.196\n",
      "Epoch:53   Loss:0.001   Val loss:0.232   Accuracy:90.854   Best val loss:0.228   Time taken:257.677\n",
      "Epoch:54   Loss:0.001   Val loss:0.233   Accuracy:90.884   Best val loss:0.228   Time taken:258.381\n",
      "Epoch:55   Loss:0.001   Val loss:0.228   Accuracy:90.973   Best val loss:0.228   Time taken:259.463\n",
      "Epoch:56   Loss:0.001   Val loss:0.23   Accuracy:90.874   Best val loss:0.228   Time taken:259.27\n",
      "Epoch:57   Loss:0.001   Val loss:0.23   Accuracy:90.844   Best val loss:0.228   Time taken:259.325\n",
      "Epoch:58   Loss:0.001   Val loss:0.231   Accuracy:90.744   Best val loss:0.228   Time taken:262.237\n",
      "Epoch:59   Loss:0.001   Val loss:0.23   Accuracy:90.934   Best val loss:0.228   Time taken:260.05\n",
      "Epoch:60   Loss:0.001   Val loss:0.228   Accuracy:90.973   Best val loss:0.228   Time taken:261.351\n",
      "Epoch:61   Loss:0.001   Val loss:0.235   Accuracy:90.585   Best val loss:0.228   Time taken:259.466\n",
      "Epoch:62   Loss:0.001   Val loss:0.23   Accuracy:90.894   Best val loss:0.228   Time taken:259.564\n",
      "Epoch:63   Loss:0.001   Val loss:0.231   Accuracy:90.685   Best val loss:0.228   Time taken:259.325\n",
      "Epoch:64   Loss:0.001   Val loss:0.228   Accuracy:91.003   Best val loss:0.228   Time taken:258.49\n",
      "Epoch:65   Loss:0.001   Val loss:0.228   Accuracy:90.904   Best val loss:0.228   Time taken:257.538\n",
      "Epoch:66   Loss:0.001   Val loss:0.232   Accuracy:90.834   Best val loss:0.228   Time taken:257.709\n",
      "Epoch:67   Loss:0.001   Val loss:0.226   Accuracy:90.914   Best val loss:0.226   Time taken:260.326\n",
      "Epoch:68   Loss:0.001   Val loss:0.232   Accuracy:90.665   Best val loss:0.226   Time taken:259.124\n",
      "Epoch:69   Loss:0.001   Val loss:0.229   Accuracy:90.943   Best val loss:0.226   Time taken:258.601\n",
      "Epoch:70   Loss:0.001   Val loss:0.231   Accuracy:90.695   Best val loss:0.226   Time taken:258.214\n",
      "Epoch:71   Loss:0.001   Val loss:0.226   Accuracy:91.143   Best val loss:0.226   Time taken:258.044\n",
      "Epoch:72   Loss:0.001   Val loss:0.225   Accuracy:90.963   Best val loss:0.225   Time taken:258.419\n",
      "Epoch:73   Loss:0.002   Val loss:0.229   Accuracy:90.943   Best val loss:0.225   Time taken:258.638\n",
      "Epoch:74   Loss:0.001   Val loss:0.225   Accuracy:91.202   Best val loss:0.225   Time taken:258.61\n",
      "Epoch:75   Loss:0.001   Val loss:0.222   Accuracy:91.123   Best val loss:0.222   Time taken:258.319\n",
      "Epoch:76   Loss:0.001   Val loss:0.227   Accuracy:90.924   Best val loss:0.222   Time taken:258.117\n",
      "Epoch:77   Loss:0.001   Val loss:0.227   Accuracy:90.973   Best val loss:0.222   Time taken:258.249\n",
      "Epoch:78   Loss:0.001   Val loss:0.224   Accuracy:91.053   Best val loss:0.222   Time taken:258.692\n",
      "Epoch:79   Loss:0.001   Val loss:0.226   Accuracy:90.884   Best val loss:0.222   Time taken:258.463\n",
      "Epoch:80   Loss:0.001   Val loss:0.226   Accuracy:91.103   Best val loss:0.222   Time taken:257.917\n",
      "Epoch:81   Loss:0.001   Val loss:0.224   Accuracy:90.963   Best val loss:0.222   Time taken:258.279\n",
      "Epoch:82   Loss:0.001   Val loss:0.226   Accuracy:90.685   Best val loss:0.222   Time taken:258.439\n",
      "Epoch:83   Loss:0.002   Val loss:0.224   Accuracy:91.063   Best val loss:0.222   Time taken:258.859\n",
      "Epoch:84   Loss:0.001   Val loss:0.226   Accuracy:91.003   Best val loss:0.222   Time taken:258.601\n",
      "Epoch:85   Loss:0.002   Val loss:0.226   Accuracy:90.874   Best val loss:0.222   Time taken:258.441\n",
      "Epoch:86   Loss:0.001   Val loss:0.229   Accuracy:90.715   Best val loss:0.222   Time taken:257.709\n",
      "Epoch:87   Loss:0.001   Val loss:0.227   Accuracy:90.764   Best val loss:0.222   Time taken:257.776\n",
      "Epoch:88   Loss:0.001   Val loss:0.229   Accuracy:90.894   Best val loss:0.222   Time taken:258.018\n",
      "Epoch:89   Loss:0.002   Val loss:0.228   Accuracy:90.734   Best val loss:0.222   Time taken:258.073\n",
      "Epoch:90   Loss:0.001   Val loss:0.226   Accuracy:90.784   Best val loss:0.222   Time taken:257.019\n",
      "Epoch:91   Loss:0.002   Val loss:0.225   Accuracy:91.083   Best val loss:0.222   Time taken:262.301\n",
      "Epoch:92   Loss:0.002   Val loss:0.223   Accuracy:90.934   Best val loss:0.222   Time taken:261.6\n",
      "Epoch:93   Loss:0.002   Val loss:0.222   Accuracy:90.934   Best val loss:0.222   Time taken:261.221\n",
      "Epoch:94   Loss:0.001   Val loss:0.222   Accuracy:90.924   Best val loss:0.222   Time taken:260.25\n",
      "Epoch:95   Loss:0.001   Val loss:0.23   Accuracy:90.316   Best val loss:0.222   Time taken:260.494\n",
      "Epoch:96   Loss:0.001   Val loss:0.223   Accuracy:90.665   Best val loss:0.222   Time taken:260.879\n",
      "Epoch:97   Loss:0.001   Val loss:0.228   Accuracy:90.645   Best val loss:0.222   Time taken:260.554\n",
      "Epoch:98   Loss:0.001   Val loss:0.223   Accuracy:90.794   Best val loss:0.222   Time taken:260.369\n",
      "Epoch:99   Loss:0.002   Val loss:0.225   Accuracy:90.705   Best val loss:0.222   Time taken:259.903\n"
     ]
    },
    {
     "ename": "NameError",
     "evalue": "ignored",
     "output_type": "error",
     "traceback": [
      "\u001b[0;31m---------------------------------------------------------------------------\u001b[0m",
      "\u001b[0;31mNameError\u001b[0m                                 Traceback (most recent call last)",
      "\u001b[0;32m<ipython-input-5-224f263f2350>\u001b[0m in \u001b[0;36m<module>\u001b[0;34m()\u001b[0m\n\u001b[1;32m      2\u001b[0m \u001b[0mtrainer\u001b[0m \u001b[0;34m=\u001b[0m \u001b[0mNet_Trainer\u001b[0m\u001b[0;34m(\u001b[0m\u001b[0mdevice\u001b[0m\u001b[0;34m,\u001b[0m \u001b[0;34m'dn'\u001b[0m\u001b[0;34m,\u001b[0m \u001b[0;34m'dn_dfw_c10'\u001b[0m\u001b[0;34m,\u001b[0m \u001b[0mtrain_dataset_10\u001b[0m\u001b[0;34m,\u001b[0m \u001b[0mtest_dataset_10\u001b[0m\u001b[0;34m,\u001b[0m \u001b[0mload_ckpt\u001b[0m\u001b[0;34m=\u001b[0m\u001b[0;34m'v1_ckpt_dn_dfw_c10'\u001b[0m\u001b[0;34m,\u001b[0m \u001b[0mlr\u001b[0m\u001b[0;34m=\u001b[0m\u001b[0;36m0.1\u001b[0m\u001b[0;34m,\u001b[0m \u001b[0moptm\u001b[0m\u001b[0;34m=\u001b[0m\u001b[0;34m'dfw'\u001b[0m\u001b[0;34m,\u001b[0m \u001b[0mloss\u001b[0m\u001b[0;34m=\u001b[0m\u001b[0;34m'svm'\u001b[0m\u001b[0;34m,\u001b[0m \u001b[0mbatch_size\u001b[0m\u001b[0;34m=\u001b[0m\u001b[0;36m64\u001b[0m\u001b[0;34m,\u001b[0m \u001b[0mepochs\u001b[0m\u001b[0;34m=\u001b[0m\u001b[0;36m100\u001b[0m\u001b[0;34m,\u001b[0m \u001b[0mweight_decay\u001b[0m\u001b[0;34m=\u001b[0m\u001b[0;36m1e-4\u001b[0m\u001b[0;34m,\u001b[0m \u001b[0msmooth\u001b[0m\u001b[0;34m=\u001b[0m\u001b[0;32mTrue\u001b[0m\u001b[0;34m)\u001b[0m\u001b[0;34m\u001b[0m\u001b[0;34m\u001b[0m\u001b[0m\n\u001b[1;32m      3\u001b[0m \u001b[0mbest_epoch\u001b[0m\u001b[0;34m,\u001b[0m \u001b[0mlosses\u001b[0m\u001b[0;34m,\u001b[0m \u001b[0merrors\u001b[0m\u001b[0;34m,\u001b[0m \u001b[0maccs\u001b[0m \u001b[0;34m=\u001b[0m \u001b[0mtrainer\u001b[0m\u001b[0;34m.\u001b[0m\u001b[0mtrain\u001b[0m\u001b[0;34m(\u001b[0m\u001b[0;34m)\u001b[0m\u001b[0;34m\u001b[0m\u001b[0;34m\u001b[0m\u001b[0m\n\u001b[0;32m----> 4\u001b[0;31m \u001b[0mplot_train\u001b[0m\u001b[0;34m(\u001b[0m\u001b[0mlosses\u001b[0m\u001b[0;34m,\u001b[0m \u001b[0merrors\u001b[0m\u001b[0;34m,\u001b[0m \u001b[0maccs\u001b[0m\u001b[0;34m)\u001b[0m\u001b[0;34m\u001b[0m\u001b[0;34m\u001b[0m\u001b[0m\n\u001b[0m\u001b[1;32m      5\u001b[0m \u001b[0mprint\u001b[0m\u001b[0;34m(\u001b[0m\u001b[0;34m'Best epoch:'\u001b[0m\u001b[0;34m,\u001b[0m\u001b[0mbest_epoch\u001b[0m\u001b[0;34m)\u001b[0m\u001b[0;34m\u001b[0m\u001b[0;34m\u001b[0m\u001b[0m\n",
      "\u001b[0;32m/content/drive/My Drive/DL_project/train_utils.py\u001b[0m in \u001b[0;36mplot_train\u001b[0;34m(losses, errors, accs)\u001b[0m\n\u001b[1;32m     63\u001b[0m     \u001b[0;32mreturn\u001b[0m \u001b[0;36m100.\u001b[0m \u001b[0;34m*\u001b[0m \u001b[0macc\u001b[0m\u001b[0;34m\u001b[0m\u001b[0;34m\u001b[0m\u001b[0m\n\u001b[1;32m     64\u001b[0m \u001b[0;34m\u001b[0m\u001b[0m\n\u001b[0;32m---> 65\u001b[0;31m \u001b[0;32mdef\u001b[0m \u001b[0mplot_train\u001b[0m\u001b[0;34m(\u001b[0m\u001b[0mlosses\u001b[0m\u001b[0;34m,\u001b[0m \u001b[0merrors\u001b[0m\u001b[0;34m,\u001b[0m \u001b[0maccs\u001b[0m\u001b[0;34m)\u001b[0m\u001b[0;34m:\u001b[0m\u001b[0;34m\u001b[0m\u001b[0;34m\u001b[0m\u001b[0m\n\u001b[0m\u001b[1;32m     66\u001b[0m     \u001b[0mplt\u001b[0m\u001b[0;34m.\u001b[0m\u001b[0mplot\u001b[0m\u001b[0;34m(\u001b[0m\u001b[0mrange\u001b[0m\u001b[0;34m(\u001b[0m\u001b[0mlen\u001b[0m\u001b[0;34m(\u001b[0m\u001b[0mlosses\u001b[0m\u001b[0;34m)\u001b[0m\u001b[0;34m)\u001b[0m\u001b[0;34m,\u001b[0m \u001b[0mlosses\u001b[0m\u001b[0;34m,\u001b[0m \u001b[0mlabel\u001b[0m \u001b[0;34m=\u001b[0m \u001b[0;34m\"Train loss\"\u001b[0m\u001b[0;34m,\u001b[0m \u001b[0mcolor\u001b[0m\u001b[0;34m=\u001b[0m\u001b[0;34m'blue'\u001b[0m\u001b[0;34m)\u001b[0m\u001b[0;34m\u001b[0m\u001b[0;34m\u001b[0m\u001b[0m\n\u001b[1;32m     67\u001b[0m     \u001b[0mplt\u001b[0m\u001b[0;34m.\u001b[0m\u001b[0mplot\u001b[0m\u001b[0;34m(\u001b[0m\u001b[0mrange\u001b[0m\u001b[0;34m(\u001b[0m\u001b[0mlen\u001b[0m\u001b[0;34m(\u001b[0m\u001b[0merrors\u001b[0m\u001b[0;34m)\u001b[0m\u001b[0;34m)\u001b[0m\u001b[0;34m,\u001b[0m \u001b[0merrors\u001b[0m\u001b[0;34m,\u001b[0m \u001b[0mlabel\u001b[0m \u001b[0;34m=\u001b[0m \u001b[0;34m\"Val loss\"\u001b[0m\u001b[0;34m,\u001b[0m \u001b[0mcolor\u001b[0m\u001b[0;34m=\u001b[0m\u001b[0;34m'red'\u001b[0m\u001b[0;34m)\u001b[0m\u001b[0;34m\u001b[0m\u001b[0;34m\u001b[0m\u001b[0m\n",
      "\u001b[0;31mNameError\u001b[0m: name 'plt' is not defined"
     ]
    }
   ],
   "source": [
    "# Conitnue training by loading checkpoint\n",
    "# Best epoch = epoch with least val loss\n",
    "trainer = Net_Trainer(device, 'dn', 'dn_dfw_c10', train_dataset_10, test_dataset_10, load_ckpt='v1_ckpt_dn_dfw_c10', lr=0.1, optm='dfw', loss='svm', \n",
    "                      batch_size=64, epochs=100, weight_decay=1e-4, smooth=True)\n",
    "best_epoch, losses, errors, accs = trainer.train()\n",
    "plot_train(losses, errors, accs)\n",
    "print('Best epoch:',best_epoch)"
   ]
  },
  {
   "cell_type": "code",
   "execution_count": null,
   "metadata": {
    "colab": {
     "base_uri": "https://localhost:8080/",
     "height": 607
    },
    "executionInfo": {
     "elapsed": 4586,
     "status": "ok",
     "timestamp": 1619345992937,
     "user": {
      "displayName": "Revati Khamkar",
      "photoUrl": "",
      "userId": "09373875131750117156"
     },
     "user_tz": -330
    },
    "id": "Q6EW4ZA1iZNg",
    "outputId": "4c1465ac-d839-4fdf-8b7d-f9646f93d389"
   },
   "outputs": [
    {
     "name": "stdout",
     "output_type": "stream",
     "text": [
      "cuda Tesla T4\n"
     ]
    },
    {
     "data": {
      "image/png": "[encoded data removed]",
      "text/plain": [
       "<Figure size 432x288 with 1 Axes>"
      ]
     },
     "metadata": {
      "needs_background": "light",
      "tags": []
     },
     "output_type": "display_data"
    },
    {
     "data": {
      "image/png": "[encoded data removed]",
      "text/plain": [
       "<Figure size 432x288 with 1 Axes>"
      ]
     },
     "metadata": {
      "needs_background": "light",
      "tags": []
     },
     "output_type": "display_data"
    },
    {
     "name": "stdout",
     "output_type": "stream",
     "text": [
      "Best epoch: 94\n"
     ]
    }
   ],
   "source": [
    "# Conitnue training by loading checkpoint\n",
    "# Best epoch = epoch with least val loss\n",
    "# This cell is used only to plot the graphs\n",
    "trainer = Net_Trainer(device, 'dn', 'dn_dfw_c10', train_dataset_10, test_dataset_10, load_ckpt='v1_ckpt_dn_dfw_c10', lr=0.1, optm='dfw', loss='svm', \n",
    "                      batch_size=64, epochs=100, weight_decay=1e-4, smooth=True)\n",
    "best_epoch, losses, errors, accs = trainer.train()\n",
    "plot_train(losses, errors, accs)\n",
    "print('Best epoch:',best_epoch)"
   ]
  }
 ],
 "metadata": {
  "accelerator": "GPU",
  "colab": {
   "name": "dn_dfw_c10.ipynb",
   "provenance": []
  },
  "kernelspec": {
   "display_name": "Python 3",
   "language": "python",
   "name": "python3"
  },
  "language_info": {
   "codemirror_mode": {
    "name": "ipython",
    "version": 3
   },
   "file_extension": ".py",
   "mimetype": "text/x-python",
   "name": "python",
   "nbconvert_exporter": "python",
   "pygments_lexer": "ipython3",
   "version": "3.6.5"
  }
 },
 "nbformat": 4,
 "nbformat_minor": 1
}
