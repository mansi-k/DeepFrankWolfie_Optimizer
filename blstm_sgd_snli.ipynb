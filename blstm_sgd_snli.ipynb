{
 "cells": [
  {
   "cell_type": "markdown",
   "metadata": {
    "id": "hVkCiaH1IFxP"
   },
   "source": [
    "# Training BiLSTM on SNLI using SGD"
   ]
  },
  {
   "cell_type": "code",
   "execution_count": 1,
   "metadata": {
    "colab": {
     "base_uri": "https://localhost:8080/"
    },
    "executionInfo": {
     "elapsed": 25238,
     "status": "ok",
     "timestamp": 1619449858827,
     "user": {
      "displayName": "MANSI KHAMKAR",
      "photoUrl": "https://lh3.googleusercontent.com/a-/AOh14GhMFZb_-ee8qqaB-dV_gK7g_R_at5uh-HS8mBMQ=s64",
      "userId": "07862734149699594801"
     },
     "user_tz": -330
    },
    "id": "x4cJFGwS4Foe",
    "outputId": "957eed5a-a3b6-4dbc-a5ea-a430fa3cb808"
   },
   "outputs": [
    {
     "name": "stdout",
     "output_type": "stream",
     "text": [
      "Mounted at /content/drive\n",
      "/content/drive/MyDrive/DL_project\n",
      "/content/drive/MyDrive/DL_project\n"
     ]
    }
   ],
   "source": [
    "from google.colab import drive\n",
    "drive.mount('/content/drive', force_remount=True)\n",
    "%cd /content/drive/MyDrive/DL_project/\n",
    "!pwd"
   ]
  },
  {
   "cell_type": "code",
   "execution_count": 3,
   "metadata": {
    "executionInfo": {
     "elapsed": 24833,
     "status": "ok",
     "timestamp": 1619449894674,
     "user": {
      "displayName": "MANSI KHAMKAR",
      "photoUrl": "https://lh3.googleusercontent.com/a-/AOh14GhMFZb_-ee8qqaB-dV_gK7g_R_at5uh-HS8mBMQ=s64",
      "userId": "07862734149699594801"
     },
     "user_tz": -330
    },
    "id": "nLURgE-65F61"
   },
   "outputs": [],
   "source": [
    "import torch\n",
    "import torch.nn as nn\n",
    "import torchvision\n",
    "import numpy as np\n",
    "import matplotlib.pyplot as plt\n",
    "import torch.nn as nn\n",
    "import torch.nn.functional as F\n",
    "from torchvision.datasets import CIFAR10\n",
    "from torchvision.datasets import CIFAR100\n",
    "from torch.utils.data.dataloader import DataLoader\n",
    "from torchvision.transforms import *\n",
    "import os\n",
    "import time\n",
    "import gc\n",
    "import shutil\n",
    "import h5py\n",
    "\n",
    "from dfw.dfw import DFW\n",
    "# ! ls\n",
    "from dfw.dfw.losses import set_smoothing_enabled\n",
    "from dfw.dfw.losses import MultiClassHingeLoss\n",
    "from dfw.experiments.InferSent.data import get_nli, get_batch, build_vocab\n",
    "from dfw.experiments.InferSent.models import NLINet\n",
    "from dfw.experiments.reproduce import *\n",
    "\n",
    "from snli_train_utils import *"
   ]
  },
  {
   "cell_type": "code",
   "execution_count": 4,
   "metadata": {
    "colab": {
     "base_uri": "https://localhost:8080/"
    },
    "executionInfo": {
     "elapsed": 159782,
     "status": "ok",
     "timestamp": 1619450031750,
     "user": {
      "displayName": "MANSI KHAMKAR",
      "photoUrl": "https://lh3.googleusercontent.com/a-/AOh14GhMFZb_-ee8qqaB-dV_gK7g_R_at5uh-HS8mBMQ=s64",
      "userId": "07862734149699594801"
     },
     "user_tz": -330
    },
    "id": "g9ywtAAt-8qH",
    "outputId": "2b161321-5c4a-4cf8-a48f-19caac61f757"
   },
   "outputs": [
    {
     "name": "stdout",
     "output_type": "stream",
     "text": [
      "** TRAIN DATA : Found 549367 pairs of train sentences.\n",
      "** DEV DATA : Found 9842 pairs of dev sentences.\n",
      "** TEST DATA : Found 9824 pairs of test sentences.\n",
      "Found 38957(/43479) words with glove vectors\n",
      "Vocab size : 38957\n"
     ]
    },
    {
     "name": "stderr",
     "output_type": "stream",
     "text": [
      "/usr/local/lib/python3.7/dist-packages/ipykernel_launcher.py:12: VisibleDeprecationWarning: Creating an ndarray from ragged nested sequences (which is a list-or-tuple of lists-or-tuples-or ndarrays with different lengths or shapes) is deprecated. If you meant to do this, you must specify 'dtype=object' when creating the ndarray\n",
      "  if sys.path[0] == '':\n"
     ]
    }
   ],
   "source": [
    "GLOVE_PATH = \"dfw/experiments/InferSent/dataset/GloVe/glove.840B.300d.txt\"\n",
    "nlipath = 'dfw/experiments/InferSent/dataset/SNLI'\n",
    "train, valid, test = get_nli(nlipath)\n",
    "word_vec = build_vocab(train['s1'] + train['s2'] +\n",
    "                       valid['s1'] + valid['s2'] +\n",
    "                       test['s1'] + test['s2'], GLOVE_PATH)\n",
    "\n",
    "for split in ['s1', 's2']:\n",
    "    for data_type in ['train', 'valid', 'test']:\n",
    "        eval(data_type)[split] = np.array([['<s>'] +\n",
    "            [word for word in sent.split() if word in word_vec] +\n",
    "            ['</s>'] for sent in eval(data_type)[split]])\n"
   ]
  },
  {
   "cell_type": "code",
   "execution_count": 5,
   "metadata": {
    "executionInfo": {
     "elapsed": 157056,
     "status": "ok",
     "timestamp": 1619450031752,
     "user": {
      "displayName": "MANSI KHAMKAR",
      "photoUrl": "https://lh3.googleusercontent.com/a-/AOh14GhMFZb_-ee8qqaB-dV_gK7g_R_at5uh-HS8mBMQ=s64",
      "userId": "07862734149699594801"
     },
     "user_tz": -330
    },
    "id": "EPhF30-jBOfu"
   },
   "outputs": [],
   "source": [
    "device = torch.device(\"cuda\" if torch.cuda.is_available() else \"cpu\")\n",
    "word_emb_dim = 300\n",
    "config_nli_model = {\n",
    "    'n_words'        :  len(word_vec)         ,\n",
    "    'word_emb_dim'   :  word_emb_dim   ,\n",
    "    'enc_lstm_dim'   :  2048   ,\n",
    "    'n_enc_layers'   :  1   ,\n",
    "    'dpout_model'    :  0.    ,\n",
    "    'dpout_fc'       :  0.       ,\n",
    "    'fc_dim'         :  512         ,\n",
    "    'bsize'          :  64     ,\n",
    "    'n_classes'      :  3      ,\n",
    "    'pool_type'      :  'max'      ,\n",
    "    'nonlinear_fc'   :  0   ,\n",
    "    'encoder_type'   :  'BLSTMEncoder'   ,\n",
    "    'use_cuda'       :  True                  ,\n",
    "\n",
    "}"
   ]
  },
  {
   "cell_type": "code",
   "execution_count": null,
   "metadata": {
    "colab": {
     "base_uri": "https://localhost:8080/"
    },
    "id": "cB6cyM6FNnbO",
    "outputId": "65e6cada-f880-4eaa-e7be-6c8c4d4e84c3"
   },
   "outputs": [
    {
     "name": "stdout",
     "output_type": "stream",
     "text": [
      "cuda Tesla T4\n",
      "Epoch:0   Loss:0.513   Val loss:1.069   Accuracy:50.125   Best val loss:1.069   Time taken:322.29\n",
      "Epoch:1   Loss:0.068   Val loss:1.164   Accuracy:48.719   Best val loss:1.069   Time taken:323.287\n",
      "Epoch:2   Loss:0.076   Val loss:0.973   Accuracy:58.031   Best val loss:0.973   Time taken:319.243\n",
      "Epoch:3   Loss:0.059   Val loss:1.003   Accuracy:57.375   Best val loss:0.973   Time taken:322.233\n",
      "Epoch:4   Loss:0.194   Val loss:0.971   Accuracy:57.359   Best val loss:0.971   Time taken:321.571\n",
      "Epoch:5   Loss:0.14   Val loss:0.952   Accuracy:55.984   Best val loss:0.952   Time taken:322.421\n",
      "Epoch:6   Loss:0.134   Val loss:0.825   Accuracy:63.219   Best val loss:0.825   Time taken:326.248\n",
      "Epoch:7   Loss:0.124   Val loss:0.784   Accuracy:63.688   Best val loss:0.784   Time taken:321.03\n",
      "Epoch:8   Loss:0.112   Val loss:0.821   Accuracy:61.312   Best val loss:0.784   Time taken:325.414\n",
      "Epoch:9   Loss:0.382   Val loss:0.777   Accuracy:63.969   Best val loss:0.777   Time taken:321.306\n",
      "Epoch:10   Loss:0.349   Val loss:0.802   Accuracy:63.562   Best val loss:0.777   Time taken:329.876\n",
      "Epoch:11   Loss:0.652   Val loss:0.805   Accuracy:66.75   Best val loss:0.777   Time taken:320.901\n",
      "Epoch:12   Loss:0.742   Val loss:0.804   Accuracy:66.828   Best val loss:0.777   Time taken:322.139\n",
      "Epoch:13   Loss:0.762   Val loss:0.801   Accuracy:67.375   Best val loss:0.777   Time taken:323.335\n",
      "Epoch:14   Loss:0.749   Val loss:0.799   Accuracy:66.828   Best val loss:0.777   Time taken:322.549\n",
      "Epoch:15   Loss:0.841   Val loss:0.799   Accuracy:66.828   Best val loss:0.777   Time taken:324.831\n",
      "Epoch:16   Loss:0.787   Val loss:0.799   Accuracy:66.828   Best val loss:0.777   Time taken:327.601\n",
      "Epoch:17   Loss:0.769   Val loss:0.799   Accuracy:66.828   Best val loss:0.777   Time taken:325.336\n",
      "Epoch:18   Loss:0.846   Val loss:0.799   Accuracy:66.828   Best val loss:0.777   Time taken:324.051\n",
      "Epoch:19   Loss:0.797   Val loss:0.799   Accuracy:66.828   Best val loss:0.777   Time taken:327.519\n",
      "Epoch:20   Loss:0.813   Val loss:0.799   Accuracy:66.828   Best val loss:0.777   Time taken:327.387\n",
      "Epoch:21   Loss:0.763   Val loss:0.799   Accuracy:66.828   Best val loss:0.777   Time taken:325.681\n",
      "Epoch:22   Loss:0.765   Val loss:0.799   Accuracy:66.828   Best val loss:0.777   Time taken:326.264\n",
      "Epoch:23   Loss:0.785   Val loss:0.799   Accuracy:66.828   Best val loss:0.777   Time taken:325.971\n",
      "Epoch:24   Loss:0.746   Val loss:0.799   Accuracy:66.828   Best val loss:0.777   Time taken:326.185\n",
      "Epoch:25   Loss:0.761   Val loss:0.799   Accuracy:66.828   Best val loss:0.777   Time taken:327.758\n",
      "Epoch:26   Loss:0.767   Val loss:0.799   Accuracy:66.828   Best val loss:0.777   Time taken:324.046\n",
      "Epoch:27   Loss:0.8   Val loss:0.799   Accuracy:66.828   Best val loss:0.777   Time taken:317.647\n",
      "Epoch:28   Loss:0.866   Val loss:0.799   Accuracy:66.828   Best val loss:0.777   Time taken:319.454\n",
      "Epoch:29   Loss:0.763   Val loss:0.799   Accuracy:66.828   Best val loss:0.777   Time taken:327.153\n",
      "Epoch:30   Loss:0.724   Val loss:0.799   Accuracy:66.828   Best val loss:0.777   Time taken:324.423\n",
      "Epoch:31   Loss:0.784   Val loss:0.799   Accuracy:66.828   Best val loss:0.777   Time taken:324.032\n",
      "Epoch:32   Loss:0.805   Val loss:0.799   Accuracy:66.828   Best val loss:0.777   Time taken:320.267\n",
      "Epoch:33   Loss:0.8   Val loss:0.799   Accuracy:66.828   Best val loss:0.777   Time taken:319.091\n",
      "Epoch:34   Loss:0.759   Val loss:0.799   Accuracy:66.828   Best val loss:0.777   Time taken:319.799\n",
      "Epoch:35   Loss:0.753   Val loss:0.799   Accuracy:66.828   Best val loss:0.777   Time taken:321.637\n",
      "Epoch:36   Loss:0.821   Val loss:0.799   Accuracy:66.828   Best val loss:0.777   Time taken:322.576\n",
      "Epoch:37   Loss:0.756   Val loss:0.799   Accuracy:66.828   Best val loss:0.777   Time taken:328.511\n",
      "Epoch:38   Loss:0.777   Val loss:0.799   Accuracy:66.828   Best val loss:0.777   Time taken:331.271\n",
      "Epoch:39   Loss:0.789   Val loss:0.799   Accuracy:66.828   Best val loss:0.777   Time taken:320.102\n"
     ]
    }
   ],
   "source": [
    "trainer = Net_Trainer(device, 'blstm_sgd_snli', config_nli_model, word_vec, train, valid, test, lr=0.1, optm='sgd', loss='svm', batch_size=64, epochs=100, \n",
    "                          lr_decay=0.99, lr_shrink=5.0, weight_decay=0, mom=0, smooth=False)\n",
    "best_epoch, losses, errors, accs, testacc = trainer.train()\n",
    "plot_train(losses, errors, accs)\n",
    "print('Best epoch:',best_epoch)\n",
    "print('Test accuracy:',testacc,'%')"
   ]
  },
  {
   "cell_type": "code",
   "execution_count": 7,
   "metadata": {
    "colab": {
     "base_uri": "https://localhost:8080/",
     "height": 624
    },
    "executionInfo": {
     "elapsed": 69717,
     "status": "ok",
     "timestamp": 1619446173758,
     "user": {
      "displayName": "MANSI KHAMKAR",
      "photoUrl": "https://lh3.googleusercontent.com/a-/AOh14GhMFZb_-ee8qqaB-dV_gK7g_R_at5uh-HS8mBMQ=s64",
      "userId": "07862734149699594801"
     },
     "user_tz": -330
    },
    "id": "nuge5xfw4-iU",
    "outputId": "f593fbda-4824-4f24-dd2a-d79458191206"
   },
   "outputs": [
    {
     "name": "stdout",
     "output_type": "stream",
     "text": [
      "cuda Tesla K80\n"
     ]
    },
    {
     "data": {
      "image/png": "[encoded data removed]",
      "text/plain": [
       "<Figure size 432x288 with 1 Axes>"
      ]
     },
     "metadata": {
      "needs_background": "light",
      "tags": []
     },
     "output_type": "display_data"
    },
    {
     "data": {
      "image/png": "[encoded data removed]",
      "text/plain": [
       "<Figure size 432x288 with 1 Axes>"
      ]
     },
     "metadata": {
      "needs_background": "light",
      "tags": []
     },
     "output_type": "display_data"
    },
    {
     "name": "stdout",
     "output_type": "stream",
     "text": [
      "Best epoch: 9\n",
      "Test accuracy: 61.109375 %\n"
     ]
    }
   ],
   "source": [
    "# Conitnue training by loading checkpoint\n",
    "# Best epoch = epoch with least val loss\n",
    "# This cell is used only for plotting graph\n",
    "trainer = Net_Trainer(device, 'blstm_sgd_snli', config_nli_model, word_vec, train, valid, test, load_ckpt='v1_ckpt_blstm_sgd_snli', lr=0.1, optm='sgd', loss='svm', \n",
    "                      batch_size=64, epochs=40, lr_decay=0.99, lr_shrink=5.0, weight_decay=0, mom=0, smooth=False)\n",
    "best_epoch, losses, errors, accs, testacc = trainer.train()\n",
    "plot_train(losses, errors, accs)\n",
    "print('Best epoch:',best_epoch)\n",
    "print('Test accuracy:',testacc,'%')"
   ]
  },
  {
   "cell_type": "code",
   "execution_count": 6,
   "metadata": {
    "colab": {
     "base_uri": "https://localhost:8080/"
    },
    "executionInfo": {
     "elapsed": 60369,
     "status": "ok",
     "timestamp": 1619450092124,
     "user": {
      "displayName": "MANSI KHAMKAR",
      "photoUrl": "https://lh3.googleusercontent.com/a-/AOh14GhMFZb_-ee8qqaB-dV_gK7g_R_at5uh-HS8mBMQ=s64",
      "userId": "07862734149699594801"
     },
     "user_tz": -330
    },
    "id": "w4nC0LQBuYx0",
    "outputId": "779d8fb7-a1d6-492f-d062-1637f03020c9"
   },
   "outputs": [
    {
     "name": "stdout",
     "output_type": "stream",
     "text": [
      "Test accuracy of best model: 61.953125\n"
     ]
    }
   ],
   "source": [
    "best_acc = test_model(device, config_nli_model, 'v1_ckpt_blstm_sgd_snli_best', test, 64, word_vec)\n",
    "print('Test accuracy of best model:',best_acc)"
   ]
  }
 ],
 "metadata": {
  "accelerator": "GPU",
  "colab": {
   "name": "blstm_sgd_snli.ipynb",
   "provenance": []
  },
  "kernelspec": {
   "display_name": "Python 3",
   "language": "python",
   "name": "python3"
  },
  "language_info": {
   "codemirror_mode": {
    "name": "ipython",
    "version": 3
   },
   "file_extension": ".py",
   "mimetype": "text/x-python",
   "name": "python",
   "nbconvert_exporter": "python",
   "pygments_lexer": "ipython3",
   "version": "3.6.5"
  }
 },
 "nbformat": 4,
 "nbformat_minor": 1
}
