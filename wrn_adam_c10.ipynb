{
 "cells": [
  {
   "cell_type": "markdown",
   "metadata": {
    "id": "D8mTA6N9FhYW"
   },
   "source": [
    "# Training WideResNet on Cifar10 using ADAM"
   ]
  },
  {
   "cell_type": "code",
   "execution_count": null,
   "metadata": {
    "colab": {
     "base_uri": "https://localhost:8080/"
    },
    "executionInfo": {
     "elapsed": 37110,
     "status": "ok",
     "timestamp": 1619874274212,
     "user": {
      "displayName": "MANSI KHAMKAR",
      "photoUrl": "https://lh3.googleusercontent.com/a-/AOh14GhMFZb_-ee8qqaB-dV_gK7g_R_at5uh-HS8mBMQ=s64",
      "userId": "07862734149699594801"
     },
     "user_tz": -330
    },
    "id": "8RhnLkxuxe_m",
    "outputId": "e231f10b-263d-4f3f-9ff8-50f295af01e3"
   },
   "outputs": [
    {
     "name": "stdout",
     "output_type": "stream",
     "text": [
      "Mounted at /content/drive\n",
      "/content/drive/.shortcut-targets-by-id/1rxvBmpHEy23c0WZ6V3NFhmsmCCJ4quW5/DL_project\n",
      "/content/drive/.shortcut-targets-by-id/1rxvBmpHEy23c0WZ6V3NFhmsmCCJ4quW5/DL_project\n"
     ]
    }
   ],
   "source": [
    "from google.colab import drive\n",
    "drive.mount('/content/drive', force_remount=True)\n",
    "%cd /content/drive/MyDrive/DL_project/\n",
    "!pwd"
   ]
  },
  {
   "cell_type": "code",
   "execution_count": null,
   "metadata": {
    "id": "aD3z7C8Wxvmb"
   },
   "outputs": [],
   "source": [
    "import torch\n",
    "import torch.nn as nn\n",
    "import torchvision\n",
    "import numpy as np\n",
    "import matplotlib.pyplot as plt\n",
    "import torch.nn as nn\n",
    "import torch.nn.functional as F\n",
    "from torchvision.datasets import CIFAR10\n",
    "from torchvision.datasets import CIFAR100\n",
    "from torch.utils.data.dataloader import DataLoader\n",
    "from torchvision.transforms import *\n",
    "import os\n",
    "import time\n",
    "import gc\n",
    "import shutil\n",
    "import h5py\n",
    "\n",
    "from dfw.dfw import DFW\n",
    "from dfw.dfw.losses import set_smoothing_enabled\n",
    "from dfw.dfw.losses import MultiClassHingeLoss\n",
    "from dfw.experiments.models.densenet import DenseNet3\n",
    "from dfw.experiments.models.wide_resnet import WideResNet\n",
    "\n",
    "from train_utils import *"
   ]
  },
  {
   "cell_type": "code",
   "execution_count": null,
   "metadata": {
    "colab": {
     "base_uri": "https://localhost:8080/"
    },
    "executionInfo": {
     "elapsed": 27829,
     "status": "ok",
     "timestamp": 1619874326658,
     "user": {
      "displayName": "MANSI KHAMKAR",
      "photoUrl": "https://lh3.googleusercontent.com/a-/AOh14GhMFZb_-ee8qqaB-dV_gK7g_R_at5uh-HS8mBMQ=s64",
      "userId": "07862734149699594801"
     },
     "user_tz": -330
    },
    "id": "ikw6QVQ1x1Hg",
    "outputId": "ad05d64e-ab6c-4d7f-dfbf-8c80f97dcd44"
   },
   "outputs": [
    {
     "name": "stdout",
     "output_type": "stream",
     "text": [
      "Files already downloaded and verified\n",
      "50000 10000\n",
      "Files already downloaded and verified\n",
      "50000 10000\n"
     ]
    }
   ],
   "source": [
    "transform = transforms.Compose([transforms.ToTensor(),\n",
    "     transforms.Normalize((0.5, 0.5, 0.5), (0.5, 0.5, 0.5))])\n",
    "os.makedirs(\"data/cifar\", exist_ok=True)\n",
    "train_dataset_10 = CIFAR10(root='data/cifar', download=True, transform=transform)\n",
    "test_dataset_10 = CIFAR10(root='data/cifar', train=False, transform=transform)\n",
    "print(len(train_dataset_10), len(test_dataset_10))\n",
    "\n",
    "train_dataset_100 = CIFAR100(root='data/cifar', download=True, transform=transform)\n",
    "test_dataset_100 = CIFAR100(root='data/cifar', train=False, transform=transform)\n",
    "print(len(train_dataset_100), len(test_dataset_100))"
   ]
  },
  {
   "cell_type": "code",
   "execution_count": null,
   "metadata": {
    "colab": {
     "base_uri": "https://localhost:8080/",
     "height": 1000
    },
    "executionInfo": {
     "elapsed": 9703628,
     "status": "ok",
     "timestamp": 1619884670215,
     "user": {
      "displayName": "MANSI KHAMKAR",
      "photoUrl": "https://lh3.googleusercontent.com/a-/AOh14GhMFZb_-ee8qqaB-dV_gK7g_R_at5uh-HS8mBMQ=s64",
      "userId": "07862734149699594801"
     },
     "user_tz": -330
    },
    "id": "ISYgKg5rx2KK",
    "outputId": "af9457bd-c233-4912-b100-91e87752299e"
   },
   "outputs": [
    {
     "name": "stdout",
     "output_type": "stream",
     "text": [
      "cuda Tesla P100-PCIE-16GB\n",
      "Epoch:0   Loss:1.356   Val loss:1.269   Accuracy:56.566   Best val loss:1.269   Time taken:95.736\n",
      "Epoch:1   Loss:0.909   Val loss:1.298   Accuracy:58.94   Best val loss:1.269   Time taken:96.294\n",
      "Epoch:2   Loss:0.709   Val loss:0.741   Accuracy:74.535   Best val loss:0.741   Time taken:96.465\n",
      "Epoch:3   Loss:0.588   Val loss:0.665   Accuracy:77.037   Best val loss:0.665   Time taken:96.017\n",
      "Epoch:4   Loss:0.491   Val loss:0.646   Accuracy:77.848   Best val loss:0.646   Time taken:95.265\n",
      "Epoch:5   Loss:0.434   Val loss:0.551   Accuracy:80.518   Best val loss:0.551   Time taken:95.34\n",
      "Epoch:6   Loss:0.374   Val loss:0.604   Accuracy:79.46   Best val loss:0.551   Time taken:95.366\n",
      "Epoch:7   Loss:0.335   Val loss:0.6   Accuracy:80.785   Best val loss:0.551   Time taken:95.563\n",
      "Epoch:8   Loss:0.293   Val loss:0.589   Accuracy:81.023   Best val loss:0.551   Time taken:96.249\n",
      "Epoch:9   Loss:0.258   Val loss:0.477   Accuracy:84.266   Best val loss:0.477   Time taken:96.464\n",
      "Epoch:10   Loss:0.229   Val loss:0.582   Accuracy:82.536   Best val loss:0.477   Time taken:96.351\n",
      "Epoch:11   Loss:0.201   Val loss:0.567   Accuracy:82.18   Best val loss:0.477   Time taken:95.518\n",
      "Epoch:12   Loss:0.176   Val loss:0.664   Accuracy:80.024   Best val loss:0.477   Time taken:95.582\n",
      "Epoch:13   Loss:0.152   Val loss:0.663   Accuracy:81.527   Best val loss:0.477   Time taken:96.024\n",
      "Epoch:14   Loss:0.143   Val loss:0.635   Accuracy:82.545   Best val loss:0.477   Time taken:95.63\n",
      "Epoch:15   Loss:0.123   Val loss:0.602   Accuracy:83.554   Best val loss:0.477   Time taken:95.748\n",
      "Epoch:16   Loss:0.116   Val loss:0.51   Accuracy:85.176   Best val loss:0.477   Time taken:95.752\n",
      "Epoch:17   Loss:0.098   Val loss:1.014   Accuracy:76.988   Best val loss:0.477   Time taken:95.657\n",
      "Epoch:18   Loss:0.098   Val loss:0.78   Accuracy:80.676   Best val loss:0.477   Time taken:95.83\n",
      "Epoch:19   Loss:0.096   Val loss:0.876   Accuracy:79.371   Best val loss:0.477   Time taken:95.662\n",
      "Epoch:20   Loss:0.094   Val loss:0.688   Accuracy:82.981   Best val loss:0.477   Time taken:95.641\n",
      "Epoch:21   Loss:0.085   Val loss:0.663   Accuracy:82.447   Best val loss:0.477   Time taken:95.702\n",
      "Epoch:22   Loss:0.075   Val loss:0.682   Accuracy:82.743   Best val loss:0.477   Time taken:95.711\n",
      "Epoch:23   Loss:0.084   Val loss:0.608   Accuracy:84.573   Best val loss:0.477   Time taken:95.629\n",
      "Epoch:24   Loss:0.076   Val loss:0.634   Accuracy:84.276   Best val loss:0.477   Time taken:95.978\n",
      "Epoch:25   Loss:0.068   Val loss:0.631   Accuracy:83.851   Best val loss:0.477   Time taken:95.98\n",
      "Epoch:26   Loss:0.069   Val loss:0.637   Accuracy:84.138   Best val loss:0.477   Time taken:96.183\n",
      "Epoch:27   Loss:0.077   Val loss:0.649   Accuracy:83.149   Best val loss:0.477   Time taken:95.914\n",
      "Epoch:28   Loss:0.058   Val loss:0.602   Accuracy:84.731   Best val loss:0.477   Time taken:95.994\n",
      "Epoch:29   Loss:0.068   Val loss:0.653   Accuracy:84.207   Best val loss:0.477   Time taken:96.113\n",
      "Epoch:30   Loss:0.067   Val loss:0.664   Accuracy:83.129   Best val loss:0.477   Time taken:96.146\n",
      "Epoch:31   Loss:0.067   Val loss:0.565   Accuracy:85.947   Best val loss:0.477   Time taken:96.198\n",
      "Epoch:32   Loss:0.059   Val loss:0.691   Accuracy:83.515   Best val loss:0.477   Time taken:95.607\n",
      "Epoch:33   Loss:0.062   Val loss:0.594   Accuracy:85.631   Best val loss:0.477   Time taken:95.698\n",
      "Epoch:34   Loss:0.057   Val loss:0.693   Accuracy:83.821   Best val loss:0.477   Time taken:95.729\n",
      "Epoch:35   Loss:0.064   Val loss:0.647   Accuracy:84.286   Best val loss:0.477   Time taken:96.504\n",
      "Epoch:36   Loss:0.059   Val loss:0.649   Accuracy:84.434   Best val loss:0.477   Time taken:96.678\n",
      "Epoch:37   Loss:0.058   Val loss:0.611   Accuracy:84.83   Best val loss:0.477   Time taken:96.941\n",
      "Epoch:38   Loss:0.055   Val loss:0.767   Accuracy:82.377   Best val loss:0.477   Time taken:96.838\n",
      "Epoch:39   Loss:0.054   Val loss:0.691   Accuracy:84.326   Best val loss:0.477   Time taken:96.646\n",
      "Epoch:40   Loss:0.053   Val loss:0.656   Accuracy:84.167   Best val loss:0.477   Time taken:96.943\n",
      "Epoch:41   Loss:0.056   Val loss:0.596   Accuracy:85.789   Best val loss:0.477   Time taken:96.246\n",
      "Epoch:42   Loss:0.052   Val loss:0.723   Accuracy:83.356   Best val loss:0.477   Time taken:95.63\n",
      "Epoch:43   Loss:0.063   Val loss:0.551   Accuracy:85.977   Best val loss:0.477   Time taken:95.632\n",
      "Epoch:44   Loss:0.049   Val loss:0.668   Accuracy:84.098   Best val loss:0.477   Time taken:95.835\n",
      "Epoch:45   Loss:0.049   Val loss:0.679   Accuracy:84.167   Best val loss:0.477   Time taken:95.721\n",
      "Epoch:46   Loss:0.055   Val loss:0.683   Accuracy:84.434   Best val loss:0.477   Time taken:95.712\n",
      "Epoch:47   Loss:0.051   Val loss:0.672   Accuracy:84.375   Best val loss:0.477   Time taken:96.567\n",
      "Epoch:48   Loss:0.046   Val loss:0.702   Accuracy:83.495   Best val loss:0.477   Time taken:96.861\n",
      "Epoch:49   Loss:0.05   Val loss:0.757   Accuracy:82.694   Best val loss:0.477   Time taken:96.961\n",
      "Epoch:50   Loss:0.051   Val loss:0.658   Accuracy:84.395   Best val loss:0.477   Time taken:96.986\n",
      "Epoch:51   Loss:0.046   Val loss:0.67   Accuracy:84.622   Best val loss:0.477   Time taken:96.937\n",
      "Epoch:52   Loss:0.054   Val loss:0.607   Accuracy:85.285   Best val loss:0.477   Time taken:96.975\n",
      "Epoch:53   Loss:0.044   Val loss:0.622   Accuracy:84.642   Best val loss:0.477   Time taken:96.996\n",
      "Epoch:54   Loss:0.056   Val loss:0.571   Accuracy:85.374   Best val loss:0.477   Time taken:96.905\n",
      "Epoch:55   Loss:0.046   Val loss:0.63   Accuracy:84.276   Best val loss:0.477   Time taken:97.027\n",
      "Epoch:56   Loss:0.047   Val loss:0.655   Accuracy:84.464   Best val loss:0.477   Time taken:96.973\n",
      "Epoch:57   Loss:0.048   Val loss:0.642   Accuracy:84.642   Best val loss:0.477   Time taken:96.784\n",
      "Epoch:58   Loss:0.046   Val loss:0.637   Accuracy:85.473   Best val loss:0.477   Time taken:96.679\n",
      "Epoch:59   Loss:0.045   Val loss:0.619   Accuracy:84.968   Best val loss:0.477   Time taken:96.159\n",
      "Epoch:60   Loss:0.045   Val loss:0.63   Accuracy:84.899   Best val loss:0.477   Time taken:96.071\n",
      "Epoch:61   Loss:0.052   Val loss:0.665   Accuracy:84.068   Best val loss:0.477   Time taken:97.053\n",
      "Epoch:62   Loss:0.04   Val loss:0.701   Accuracy:84.454   Best val loss:0.477   Time taken:97.001\n",
      "Epoch:63   Loss:0.052   Val loss:0.615   Accuracy:85.423   Best val loss:0.477   Time taken:97.08\n",
      "Epoch:64   Loss:0.044   Val loss:0.611   Accuracy:85.206   Best val loss:0.477   Time taken:96.796\n",
      "Epoch:65   Loss:0.046   Val loss:0.603   Accuracy:85.591   Best val loss:0.477   Time taken:95.998\n",
      "Epoch:66   Loss:0.042   Val loss:0.658   Accuracy:84.118   Best val loss:0.477   Time taken:96.455\n",
      "Epoch:67   Loss:0.048   Val loss:0.613   Accuracy:85.354   Best val loss:0.477   Time taken:97.38\n",
      "Epoch:68   Loss:0.042   Val loss:0.795   Accuracy:82.536   Best val loss:0.477   Time taken:97.36\n",
      "Epoch:69   Loss:0.044   Val loss:0.626   Accuracy:85.413   Best val loss:0.477   Time taken:97.749\n",
      "Epoch:70   Loss:0.042   Val loss:0.688   Accuracy:83.584   Best val loss:0.477   Time taken:97.906\n",
      "Epoch:71   Loss:0.049   Val loss:0.564   Accuracy:85.67   Best val loss:0.477   Time taken:97.346\n",
      "Epoch:72   Loss:0.04   Val loss:0.597   Accuracy:85.295   Best val loss:0.477   Time taken:97.584\n",
      "Epoch:73   Loss:0.043   Val loss:0.604   Accuracy:85.008   Best val loss:0.477   Time taken:97.959\n",
      "Epoch:74   Loss:0.042   Val loss:0.663   Accuracy:84.474   Best val loss:0.477   Time taken:97.639\n",
      "Epoch:75   Loss:0.041   Val loss:0.808   Accuracy:80.785   Best val loss:0.477   Time taken:97.742\n",
      "Epoch:76   Loss:0.038   Val loss:0.649   Accuracy:85.512   Best val loss:0.477   Time taken:98.133\n",
      "Epoch:77   Loss:0.049   Val loss:0.728   Accuracy:83.485   Best val loss:0.477   Time taken:97.838\n",
      "Epoch:78   Loss:0.045   Val loss:0.63   Accuracy:85.7   Best val loss:0.477   Time taken:98.221\n",
      "Epoch:79   Loss:0.034   Val loss:0.655   Accuracy:85.265   Best val loss:0.477   Time taken:98.863\n",
      "Epoch:80   Loss:0.046   Val loss:0.671   Accuracy:84.602   Best val loss:0.477   Time taken:99.424\n",
      "Epoch:81   Loss:0.045   Val loss:0.666   Accuracy:84.612   Best val loss:0.477   Time taken:99.327\n",
      "Epoch:82   Loss:0.041   Val loss:0.658   Accuracy:84.711   Best val loss:0.477   Time taken:97.366\n",
      "Epoch:83   Loss:0.042   Val loss:0.642   Accuracy:85.413   Best val loss:0.477   Time taken:97.435\n",
      "Epoch:84   Loss:0.036   Val loss:0.706   Accuracy:84.415   Best val loss:0.477   Time taken:97.484\n",
      "Epoch:85   Loss:0.044   Val loss:0.683   Accuracy:84.81   Best val loss:0.477   Time taken:95.853\n",
      "Epoch:86   Loss:0.035   Val loss:0.621   Accuracy:85.255   Best val loss:0.477   Time taken:95.424\n",
      "Epoch:87   Loss:0.045   Val loss:0.679   Accuracy:83.732   Best val loss:0.477   Time taken:96.777\n",
      "Epoch:88   Loss:0.042   Val loss:0.657   Accuracy:85.117   Best val loss:0.477   Time taken:97.096\n",
      "Epoch:89   Loss:0.035   Val loss:0.626   Accuracy:85.532   Best val loss:0.477   Time taken:96.998\n",
      "Epoch:90   Loss:0.037   Val loss:0.656   Accuracy:84.879   Best val loss:0.477   Time taken:97.122\n",
      "Epoch:91   Loss:0.041   Val loss:0.681   Accuracy:84.434   Best val loss:0.477   Time taken:96.909\n",
      "Epoch:92   Loss:0.046   Val loss:0.636   Accuracy:84.612   Best val loss:0.477   Time taken:97.011\n",
      "Epoch:93   Loss:0.035   Val loss:0.691   Accuracy:83.811   Best val loss:0.477   Time taken:96.952\n",
      "Epoch:94   Loss:0.048   Val loss:0.693   Accuracy:84.118   Best val loss:0.477   Time taken:96.993\n",
      "Epoch:95   Loss:0.034   Val loss:0.723   Accuracy:83.831   Best val loss:0.477   Time taken:97.279\n",
      "Epoch:96   Loss:0.037   Val loss:0.715   Accuracy:84.237   Best val loss:0.477   Time taken:96.88\n",
      "Epoch:97   Loss:0.044   Val loss:0.697   Accuracy:84.345   Best val loss:0.477   Time taken:97.246\n",
      "Epoch:98   Loss:0.038   Val loss:0.77   Accuracy:83.218   Best val loss:0.477   Time taken:97.134\n",
      "Epoch:99   Loss:0.038   Val loss:0.676   Accuracy:84.227   Best val loss:0.477   Time taken:96.875\n"
     ]
    },
    {
     "data": {
      "image/png": "[encoded data removed]",
      "text/plain": [
       "<Figure size 432x288 with 1 Axes>"
      ]
     },
     "metadata": {
      "needs_background": "light",
      "tags": []
     },
     "output_type": "display_data"
    },
    {
     "data": {
      "image/png": "[encoded data removed]",
      "text/plain": [
       "<Figure size 432x288 with 1 Axes>"
      ]
     },
     "metadata": {
      "needs_background": "light",
      "tags": []
     },
     "output_type": "display_data"
    },
    {
     "name": "stdout",
     "output_type": "stream",
     "text": [
      "Best epoch: 9\n"
     ]
    }
   ],
   "source": [
    "=trainer = Net_Trainer(device, 'wrn', 'wrn_adam_c10', train_dataset_10, test_dataset_10, lr=1e-3, optm='adam', loss='ce', batch_size=128, epochs=100, \n",
    "                      weight_decay=1e-4, smooth=False)\n",
    "best_epoch, losses, errors, accs = trainer.train()\n",
    "plot_train(losses, errors, accs)\n",
    "print('Best epoch:',best_epoch)"
   ]
  }
 ],
 "metadata": {
  "accelerator": "GPU",
  "colab": {
   "name": "wrn_adam_c10.ipynb",
   "provenance": []
  },
  "kernelspec": {
   "display_name": "Python 3",
   "language": "python",
   "name": "python3"
  },
  "language_info": {
   "codemirror_mode": {
    "name": "ipython",
    "version": 3
   },
   "file_extension": ".py",
   "mimetype": "text/x-python",
   "name": "python",
   "nbconvert_exporter": "python",
   "pygments_lexer": "ipython3",
   "version": "3.6.5"
  }
 },
 "nbformat": 4,
 "nbformat_minor": 1
}
