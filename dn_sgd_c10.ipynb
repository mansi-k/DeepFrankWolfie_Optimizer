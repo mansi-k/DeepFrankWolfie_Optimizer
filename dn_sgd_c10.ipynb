{
 "cells": [
  {
   "cell_type": "markdown",
   "metadata": {
    "id": "I8K-0DYAGnIS"
   },
   "source": [
    "# Training DenseNet on Cifar10 using SGD"
   ]
  },
  {
   "cell_type": "code",
   "execution_count": null,
   "metadata": {
    "colab": {
     "base_uri": "https://localhost:8080/"
    },
    "executionInfo": {
     "elapsed": 22039,
     "status": "ok",
     "timestamp": 1619392179766,
     "user": {
      "displayName": "MANSI KHAMKAR",
      "photoUrl": "https://lh3.googleusercontent.com/a-/AOh14GjS-v3vr7lD2k9TN46NGheNnjlzv0XGhHlTqUp_hOU=s64",
      "userId": "03579399447742984188"
     },
     "user_tz": -330
    },
    "id": "8RhnLkxuxe_m",
    "outputId": "02e181bf-5827-44be-caed-cc48c399cc86"
   },
   "outputs": [
    {
     "name": "stdout",
     "output_type": "stream",
     "text": [
      "Mounted at /content/drive\n",
      "/content/drive/MyDrive/DL_project\n",
      "/content/drive/MyDrive/DL_project\n"
     ]
    }
   ],
   "source": [
    "from google.colab import drive\n",
    "drive.mount('/content/drive', force_remount=True)\n",
    "%cd /content/drive/MyDrive/DL_project/\n",
    "!pwd"
   ]
  },
  {
   "cell_type": "code",
   "execution_count": null,
   "metadata": {
    "id": "aD3z7C8Wxvmb"
   },
   "outputs": [],
   "source": [
    "import torch\n",
    "import torch.nn as nn\n",
    "import torchvision\n",
    "import numpy as np\n",
    "import matplotlib.pyplot as plt\n",
    "import torch.nn as nn\n",
    "import torch.nn.functional as F\n",
    "from torchvision.datasets import CIFAR10\n",
    "from torchvision.datasets import CIFAR100\n",
    "from torch.utils.data.dataloader import DataLoader\n",
    "from torchvision.transforms import *\n",
    "import os\n",
    "import time\n",
    "import gc\n",
    "import shutil\n",
    "import h5py\n",
    "\n",
    "from dfw.dfw import DFW\n",
    "from dfw.dfw.losses import set_smoothing_enabled\n",
    "from dfw.dfw.losses import MultiClassHingeLoss\n",
    "from dfw.experiments.models.densenet import DenseNet3\n",
    "from dfw.experiments.models.wide_resnet import WideResNet\n",
    "\n",
    "from train_utils import *"
   ]
  },
  {
   "cell_type": "code",
   "execution_count": null,
   "metadata": {
    "colab": {
     "base_uri": "https://localhost:8080/"
    },
    "executionInfo": {
     "elapsed": 18233,
     "status": "ok",
     "timestamp": 1619392222787,
     "user": {
      "displayName": "MANSI KHAMKAR",
      "photoUrl": "https://lh3.googleusercontent.com/a-/AOh14GjS-v3vr7lD2k9TN46NGheNnjlzv0XGhHlTqUp_hOU=s64",
      "userId": "03579399447742984188"
     },
     "user_tz": -330
    },
    "id": "ikw6QVQ1x1Hg",
    "outputId": "b48e3250-d295-4346-c4a9-9fef13363caa"
   },
   "outputs": [
    {
     "name": "stdout",
     "output_type": "stream",
     "text": [
      "Files already downloaded and verified\n",
      "50000 10000\n",
      "Files already downloaded and verified\n",
      "50000 10000\n"
     ]
    }
   ],
   "source": [
    "transform = transforms.Compose([transforms.ToTensor(),\n",
    "     transforms.Normalize((0.5, 0.5, 0.5), (0.5, 0.5, 0.5))])\n",
    "os.makedirs(\"data/cifar\", exist_ok=True)\n",
    "train_dataset_10 = CIFAR10(root='data/cifar', download=True, transform=transform)\n",
    "test_dataset_10 = CIFAR10(root='data/cifar', train=False, transform=transform)\n",
    "print(len(train_dataset_10), len(test_dataset_10))\n",
    "\n",
    "train_dataset_100 = CIFAR100(root='data/cifar', download=True, transform=transform)\n",
    "test_dataset_100 = CIFAR100(root='data/cifar', train=False, transform=transform)\n",
    "print(len(train_dataset_100), len(test_dataset_100))"
   ]
  },
  {
   "cell_type": "code",
   "execution_count": null,
   "metadata": {
    "colab": {
     "base_uri": "https://localhost:8080/"
    },
    "id": "ISYgKg5rx2KK",
    "outputId": "a60edab6-1099-4da5-ac09-02437f2d8664"
   },
   "outputs": [
    {
     "name": "stdout",
     "output_type": "stream",
     "text": [
      "cuda Tesla T4\n",
      "Epoch:0   Loss:1.304   Val loss:1.032   Accuracy:63.465   Best val loss:1.032   Time taken:302.993\n",
      "Epoch:1   Loss:0.754   Val loss:0.777   Accuracy:72.432   Best val loss:0.777   Time taken:297.436\n",
      "Epoch:2   Loss:0.567   Val loss:0.58   Accuracy:79.538   Best val loss:0.58   Time taken:293.866\n",
      "Epoch:3   Loss:0.465   Val loss:0.552   Accuracy:81.3   Best val loss:0.552   Time taken:280.046\n",
      "Epoch:4   Loss:0.394   Val loss:0.572   Accuracy:81.021   Best val loss:0.552   Time taken:289.561\n",
      "Epoch:5   Loss:0.342   Val loss:0.486   Accuracy:83.678   Best val loss:0.486   Time taken:289.246\n",
      "Epoch:6   Loss:0.304   Val loss:0.57   Accuracy:81.449   Best val loss:0.486   Time taken:286.422\n",
      "Epoch:7   Loss:0.279   Val loss:0.512   Accuracy:83.021   Best val loss:0.486   Time taken:287.777\n",
      "Epoch:8   Loss:0.253   Val loss:0.467   Accuracy:84.375   Best val loss:0.467   Time taken:289.442\n",
      "Epoch:9   Loss:0.237   Val loss:0.468   Accuracy:84.425   Best val loss:0.467   Time taken:285.953\n",
      "Epoch:10   Loss:0.217   Val loss:0.628   Accuracy:80.941   Best val loss:0.467   Time taken:280.304\n",
      "Epoch:11   Loss:0.209   Val loss:0.497   Accuracy:84.285   Best val loss:0.467   Time taken:286.753\n",
      "Epoch:12   Loss:0.199   Val loss:0.569   Accuracy:82.404   Best val loss:0.467   Time taken:288.797\n",
      "Epoch:13   Loss:0.189   Val loss:0.453   Accuracy:85.689   Best val loss:0.453   Time taken:284.58\n",
      "Epoch:14   Loss:0.184   Val loss:0.582   Accuracy:82.673   Best val loss:0.453   Time taken:277.091\n",
      "Epoch:15   Loss:0.179   Val loss:0.617   Accuracy:82.683   Best val loss:0.453   Time taken:276.227\n",
      "Epoch:16   Loss:0.168   Val loss:0.501   Accuracy:84.823   Best val loss:0.453   Time taken:276.09\n",
      "Epoch:17   Loss:0.165   Val loss:0.553   Accuracy:84.315   Best val loss:0.453   Time taken:275.625\n",
      "Epoch:18   Loss:0.157   Val loss:0.452   Accuracy:86.674   Best val loss:0.452   Time taken:279.922\n",
      "Epoch:19   Loss:0.153   Val loss:0.564   Accuracy:83.828   Best val loss:0.452   Time taken:279.004\n",
      "Epoch:20   Loss:0.16   Val loss:0.464   Accuracy:85.649   Best val loss:0.452   Time taken:285.902\n",
      "Epoch:21   Loss:0.149   Val loss:0.612   Accuracy:82.594   Best val loss:0.452   Time taken:295.082\n",
      "Epoch:22   Loss:0.154   Val loss:0.537   Accuracy:84.962   Best val loss:0.452   Time taken:306.631\n",
      "Epoch:23   Loss:0.153   Val loss:0.405   Accuracy:86.873   Best val loss:0.405   Time taken:307.29\n",
      "Epoch:24   Loss:0.133   Val loss:0.512   Accuracy:85.938   Best val loss:0.405   Time taken:306.104\n",
      "Epoch:25   Loss:0.14   Val loss:0.458   Accuracy:86.226   Best val loss:0.405   Time taken:305.642\n",
      "Epoch:26   Loss:0.143   Val loss:0.498   Accuracy:85.221   Best val loss:0.405   Time taken:307.152\n",
      "Epoch:27   Loss:0.131   Val loss:0.597   Accuracy:83.041   Best val loss:0.405   Time taken:306.55\n",
      "Epoch:28   Loss:0.133   Val loss:0.442   Accuracy:86.754   Best val loss:0.405   Time taken:307.029\n"
     ]
    }
   ],
   "source": [
    "trainer = Net_Trainer(device, 'dn', 'dn_sgd_c10', train_dataset_10, test_dataset_10, lr=0.1, optm='sgd', loss='ce', batch_size=64, epochs=100, \n",
    "                      weight_decay=1e-4, step=[150,225], lr_decay=0.1, mom=0.9, smooth=False)\n",
    "best_epoch, losses, errors, accs = trainer.train()\n",
    "plot_train(losses, errors, accs)\n",
    "print('Best epoch:',best_epoch)"
   ]
  },
  {
   "cell_type": "code",
   "execution_count": null,
   "metadata": {
    "colab": {
     "base_uri": "https://localhost:8080/"
    },
    "id": "9gIAEjfzPZDw",
    "outputId": "dbaa42c1-fde8-4af9-cf25-e84cc191545c"
   },
   "outputs": [
    {
     "name": "stdout",
     "output_type": "stream",
     "text": [
      "cuda Tesla K80\n",
      "Epoch:29   Loss:0.129   Val loss:0.459   Accuracy:86.545   Best val loss:0.405   Time taken:475.804\n",
      "Epoch:30   Loss:0.133   Val loss:0.482   Accuracy:86.166   Best val loss:0.405   Time taken:475.114\n",
      "Epoch:31   Loss:0.131   Val loss:0.513   Accuracy:85.51   Best val loss:0.405   Time taken:475.641\n",
      "Epoch:32   Loss:0.13   Val loss:0.599   Accuracy:83.539   Best val loss:0.405   Time taken:476.001\n",
      "Epoch:33   Loss:0.126   Val loss:0.508   Accuracy:85.111   Best val loss:0.405   Time taken:475.844\n",
      "Epoch:34   Loss:0.124   Val loss:0.69   Accuracy:82.315   Best val loss:0.405   Time taken:476.846\n",
      "Epoch:35   Loss:0.119   Val loss:0.514   Accuracy:85.111   Best val loss:0.405   Time taken:478.718\n",
      "Epoch:36   Loss:0.129   Val loss:0.46   Accuracy:87.022   Best val loss:0.405   Time taken:479.232\n",
      "Epoch:37   Loss:0.118   Val loss:0.521   Accuracy:85.997   Best val loss:0.405   Time taken:478.346\n",
      "Epoch:38   Loss:0.118   Val loss:0.626   Accuracy:83.658   Best val loss:0.405   Time taken:478.367\n",
      "Epoch:39   Loss:0.118   Val loss:0.619   Accuracy:83.639   Best val loss:0.405   Time taken:478.319\n",
      "Epoch:40   Loss:0.121   Val loss:0.558   Accuracy:83.957   Best val loss:0.405   Time taken:477.818\n",
      "Epoch:41   Loss:0.122   Val loss:0.474   Accuracy:85.888   Best val loss:0.405   Time taken:477.497\n",
      "Epoch:42   Loss:0.109   Val loss:0.463   Accuracy:86.226   Best val loss:0.405   Time taken:477.894\n",
      "Epoch:43   Loss:0.118   Val loss:0.493   Accuracy:85.281   Best val loss:0.405   Time taken:477.717\n",
      "Epoch:44   Loss:0.109   Val loss:0.519   Accuracy:85.798   Best val loss:0.405   Time taken:479.073\n",
      "Epoch:45   Loss:0.118   Val loss:0.418   Accuracy:87.56   Best val loss:0.405   Time taken:479.046\n",
      "Epoch:46   Loss:0.118   Val loss:0.496   Accuracy:85.34   Best val loss:0.405   Time taken:484.456\n",
      "Epoch:47   Loss:0.116   Val loss:0.783   Accuracy:80.494   Best val loss:0.405   Time taken:492.432\n",
      "Epoch:48   Loss:0.113   Val loss:0.423   Accuracy:87.53   Best val loss:0.405   Time taken:481.379\n",
      "Epoch:49   Loss:0.112   Val loss:0.484   Accuracy:86.495   Best val loss:0.405   Time taken:477.297\n",
      "Epoch:50   Loss:0.116   Val loss:0.441   Accuracy:86.903   Best val loss:0.405   Time taken:479.328\n",
      "Epoch:51   Loss:0.11   Val loss:0.463   Accuracy:86.206   Best val loss:0.405   Time taken:478.64\n",
      "Epoch:52   Loss:0.108   Val loss:0.445   Accuracy:87.381   Best val loss:0.405   Time taken:479.331\n",
      "Epoch:53   Loss:0.111   Val loss:0.404   Accuracy:88.047   Best val loss:0.404   Time taken:478.842\n",
      "Epoch:54   Loss:0.109   Val loss:0.45   Accuracy:87.619   Best val loss:0.404   Time taken:477.133\n",
      "Epoch:55   Loss:0.11   Val loss:0.501   Accuracy:86.067   Best val loss:0.404   Time taken:478.21\n",
      "Epoch:56   Loss:0.107   Val loss:0.526   Accuracy:85.709   Best val loss:0.404   Time taken:478.766\n",
      "Epoch:57   Loss:0.107   Val loss:0.55   Accuracy:85.599   Best val loss:0.404   Time taken:478.803\n",
      "Epoch:58   Loss:0.111   Val loss:0.472   Accuracy:86.664   Best val loss:0.404   Time taken:479.148\n",
      "Epoch:59   Loss:0.107   Val loss:0.458   Accuracy:86.783   Best val loss:0.404   Time taken:477.149\n",
      "Epoch:60   Loss:0.106   Val loss:0.788   Accuracy:80.145   Best val loss:0.404   Time taken:476.955\n",
      "Epoch:61   Loss:0.109   Val loss:0.484   Accuracy:86.286   Best val loss:0.404   Time taken:475.628\n",
      "Epoch:62   Loss:0.11   Val loss:0.767   Accuracy:82.036   Best val loss:0.404   Time taken:476.818\n",
      "Epoch:63   Loss:0.11   Val loss:0.523   Accuracy:85.44   Best val loss:0.404   Time taken:476.716\n",
      "Epoch:64   Loss:0.107   Val loss:0.512   Accuracy:86.226   Best val loss:0.404   Time taken:477.308\n",
      "Epoch:65   Loss:0.11   Val loss:0.437   Accuracy:87.46   Best val loss:0.404   Time taken:477.545\n",
      "Epoch:66   Loss:0.107   Val loss:0.434   Accuracy:87.281   Best val loss:0.404   Time taken:476.782\n",
      "Epoch:67   Loss:0.106   Val loss:0.459   Accuracy:86.634   Best val loss:0.404   Time taken:477.263\n",
      "Epoch:68   Loss:0.108   Val loss:0.455   Accuracy:86.783   Best val loss:0.404   Time taken:477.348\n",
      "Epoch:69   Loss:0.101   Val loss:0.524   Accuracy:85.928   Best val loss:0.404   Time taken:476.881\n",
      "Epoch:70   Loss:0.106   Val loss:0.529   Accuracy:84.703   Best val loss:0.404   Time taken:476.177\n",
      "Epoch:71   Loss:0.098   Val loss:0.534   Accuracy:85.281   Best val loss:0.404   Time taken:478.031\n",
      "Epoch:72   Loss:0.109   Val loss:0.487   Accuracy:86.336   Best val loss:0.404   Time taken:480.811\n",
      "Epoch:73   Loss:0.104   Val loss:0.53   Accuracy:85.281   Best val loss:0.404   Time taken:477.102\n",
      "Epoch:74   Loss:0.106   Val loss:0.536   Accuracy:85.38   Best val loss:0.404   Time taken:478.217\n",
      "Epoch:75   Loss:0.1   Val loss:0.624   Accuracy:83.449   Best val loss:0.404   Time taken:478.107\n",
      "Epoch:76   Loss:0.104   Val loss:0.454   Accuracy:86.973   Best val loss:0.404   Time taken:479.174\n",
      "Epoch:77   Loss:0.106   Val loss:0.791   Accuracy:81.22   Best val loss:0.404   Time taken:478.999\n",
      "Epoch:78   Loss:0.098   Val loss:0.408   Accuracy:87.828   Best val loss:0.404   Time taken:481.597\n",
      "Epoch:79   Loss:0.101   Val loss:0.445   Accuracy:87.609   Best val loss:0.404   Time taken:482.409\n",
      "Epoch:80   Loss:0.103   Val loss:0.62   Accuracy:82.584   Best val loss:0.404   Time taken:481.167\n",
      "Epoch:81   Loss:0.105   Val loss:0.45   Accuracy:86.933   Best val loss:0.404   Time taken:477.676\n",
      "Epoch:82   Loss:0.101   Val loss:0.506   Accuracy:86.286   Best val loss:0.404   Time taken:478.068\n",
      "Epoch:83   Loss:0.096   Val loss:0.376   Accuracy:88.615   Best val loss:0.376   Time taken:477.635\n",
      "Epoch:84   Loss:0.103   Val loss:0.496   Accuracy:85.898   Best val loss:0.376   Time taken:477.507\n",
      "Epoch:85   Loss:0.103   Val loss:0.406   Accuracy:88.137   Best val loss:0.376   Time taken:478.648\n",
      "Epoch:86   Loss:0.101   Val loss:0.543   Accuracy:85.4   Best val loss:0.376   Time taken:475.539\n",
      "Epoch:87   Loss:0.098   Val loss:0.443   Accuracy:86.793   Best val loss:0.376   Time taken:475.869\n",
      "Epoch:88   Loss:0.104   Val loss:0.461   Accuracy:86.375   Best val loss:0.376   Time taken:476.042\n",
      "Epoch:89   Loss:0.1   Val loss:0.606   Accuracy:83.609   Best val loss:0.376   Time taken:479.523\n",
      "Epoch:90   Loss:0.104   Val loss:0.718   Accuracy:82.156   Best val loss:0.376   Time taken:480.408\n",
      "Epoch:91   Loss:0.097   Val loss:0.439   Accuracy:87.56   Best val loss:0.376   Time taken:480.267\n",
      "Epoch:92   Loss:0.101   Val loss:0.588   Accuracy:84.037   Best val loss:0.376   Time taken:479.665\n",
      "Epoch:93   Loss:0.098   Val loss:0.49   Accuracy:86.764   Best val loss:0.376   Time taken:480.372\n",
      "Epoch:94   Loss:0.093   Val loss:0.596   Accuracy:84.544   Best val loss:0.376   Time taken:476.787\n"
     ]
    }
   ],
   "source": [
    "# Conitnue training by loading checkpoint\n",
    "# Best epoch = epoch with least val loss\n",
    "trainer = Net_Trainer(device, 'dn', 'dn_sgd_c10', train_dataset_10, test_dataset_10, load_ckpt='v1_ckpt_dn_sgd_c10', lr=0.1, optm='sgd', loss='ce', batch_size=64, epochs=100, \n",
    "                      weight_decay=1e-4, step=[150,225], lr_decay=0.1, mom=0.9, smooth=False)\n",
    "best_epoch, losses, errors, accs = trainer.train()\n",
    "plot_train(losses, errors, accs)\n",
    "print('Best epoch:',best_epoch)"
   ]
  },
  {
   "cell_type": "code",
   "execution_count": null,
   "metadata": {
    "colab": {
     "base_uri": "https://localhost:8080/",
     "height": 692
    },
    "executionInfo": {
     "elapsed": 1247775,
     "status": "ok",
     "timestamp": 1619393515954,
     "user": {
      "displayName": "MANSI KHAMKAR",
      "photoUrl": "https://lh3.googleusercontent.com/a-/AOh14GjS-v3vr7lD2k9TN46NGheNnjlzv0XGhHlTqUp_hOU=s64",
      "userId": "03579399447742984188"
     },
     "user_tz": -330
    },
    "id": "xI1gByG-TAFf",
    "outputId": "63b9eb2e-eaf7-4cf3-cbfe-f8ca7ea3b714"
   },
   "outputs": [
    {
     "name": "stdout",
     "output_type": "stream",
     "text": [
      "cuda Tesla T4\n",
      "Epoch:95   Loss:0.107   Val loss:0.427   Accuracy:87.57   Best val loss:0.376   Time taken:242.561\n",
      "Epoch:96   Loss:0.096   Val loss:0.577   Accuracy:84.614   Best val loss:0.376   Time taken:249.205\n",
      "Epoch:97   Loss:0.099   Val loss:0.469   Accuracy:86.186   Best val loss:0.376   Time taken:246.537\n",
      "Epoch:98   Loss:0.099   Val loss:0.458   Accuracy:86.813   Best val loss:0.376   Time taken:247.042\n",
      "Epoch:99   Loss:0.101   Val loss:0.517   Accuracy:85.47   Best val loss:0.376   Time taken:248.094\n"
     ]
    },
    {
     "data": {
      "image/png": "[encoded data removed]",
      "text/plain": [
       "<Figure size 432x288 with 1 Axes>"
      ]
     },
     "metadata": {
      "needs_background": "light",
      "tags": []
     },
     "output_type": "display_data"
    },
    {
     "data": {
      "image/png": "[encoded data removed]",
      "text/plain": [
       "<Figure size 432x288 with 1 Axes>"
      ]
     },
     "metadata": {
      "needs_background": "light",
      "tags": []
     },
     "output_type": "display_data"
    },
    {
     "name": "stdout",
     "output_type": "stream",
     "text": [
      "Best epoch: 83\n"
     ]
    }
   ],
   "source": [
    "# Conitnue training by loading checkpoint\n",
    "# Best epoch = epoch with least val loss\n",
    "trainer = Net_Trainer(device, 'dn', 'dn_sgd_c10', train_dataset_10, test_dataset_10, load_ckpt='v1_ckpt_dn_sgd_c10', lr=0.1, optm='sgd', loss='ce', batch_size=64, epochs=100, \n",
    "                      weight_decay=1e-4, step=[150,225], lr_decay=0.1, mom=0.9, smooth=False)\n",
    "best_epoch, losses, errors, accs = trainer.train()\n",
    "plot_train(losses, errors, accs)\n",
    "print('Best epoch:',best_epoch)"
   ]
  }
 ],
 "metadata": {
  "accelerator": "GPU",
  "colab": {
   "collapsed_sections": [],
   "name": "dn_sgd_c10.ipynb",
   "provenance": []
  },
  "kernelspec": {
   "display_name": "Python 3",
   "language": "python",
   "name": "python3"
  },
  "language_info": {
   "codemirror_mode": {
    "name": "ipython",
    "version": 3
   },
   "file_extension": ".py",
   "mimetype": "text/x-python",
   "name": "python",
   "nbconvert_exporter": "python",
   "pygments_lexer": "ipython3",
   "version": "3.6.5"
  }
 },
 "nbformat": 4,
 "nbformat_minor": 1
}
