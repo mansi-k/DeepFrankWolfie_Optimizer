{
 "cells": [
  {
   "cell_type": "markdown",
   "metadata": {
    "id": "pqm_owEBDy5h"
   },
   "source": [
    "# Training WideResNet on Cifar10 using SGD"
   ]
  },
  {
   "cell_type": "code",
   "execution_count": null,
   "metadata": {
    "colab": {
     "base_uri": "https://localhost:8080/"
    },
    "executionInfo": {
     "elapsed": 21994,
     "status": "ok",
     "timestamp": 1619369111281,
     "user": {
      "displayName": "MANSI KHAMKAR",
      "photoUrl": "https://lh3.googleusercontent.com/a-/AOh14GhMFZb_-ee8qqaB-dV_gK7g_R_at5uh-HS8mBMQ=s64",
      "userId": "07862734149699594801"
     },
     "user_tz": -330
    },
    "id": "8RhnLkxuxe_m",
    "outputId": "af8a6bfe-dfdd-442b-aeb0-f2db497b4b5c"
   },
   "outputs": [
    {
     "name": "stdout",
     "output_type": "stream",
     "text": [
      "Mounted at /content/drive\n",
      "/content/drive/MyDrive/DL_project\n",
      "/content/drive/MyDrive/DL_project\n"
     ]
    }
   ],
   "source": [
    "from google.colab import drive\n",
    "drive.mount('/content/drive', force_remount=True)\n",
    "%cd /content/drive/MyDrive/DL_project/\n",
    "!pwd"
   ]
  },
  {
   "cell_type": "code",
   "execution_count": null,
   "metadata": {
    "id": "aD3z7C8Wxvmb"
   },
   "outputs": [],
   "source": [
    "import torch\n",
    "import torch.nn as nn\n",
    "import torchvision\n",
    "import numpy as np\n",
    "import matplotlib.pyplot as plt\n",
    "import torch.nn as nn\n",
    "import torch.nn.functional as F\n",
    "from torchvision.datasets import CIFAR10\n",
    "from torchvision.datasets import CIFAR100\n",
    "from torch.utils.data.dataloader import DataLoader\n",
    "from torchvision.transforms import *\n",
    "import os\n",
    "import time\n",
    "import gc\n",
    "import shutil\n",
    "import h5py\n",
    "\n",
    "from dfw.dfw import DFW\n",
    "from dfw.dfw.losses import set_smoothing_enabled\n",
    "from dfw.dfw.losses import MultiClassHingeLoss\n",
    "from dfw.experiments.models.densenet import DenseNet3\n",
    "from dfw.experiments.models.wide_resnet import WideResNet\n",
    "\n",
    "from train_utils import *"
   ]
  },
  {
   "cell_type": "code",
   "execution_count": null,
   "metadata": {
    "colab": {
     "base_uri": "https://localhost:8080/"
    },
    "executionInfo": {
     "elapsed": 14726,
     "status": "ok",
     "timestamp": 1619369149223,
     "user": {
      "displayName": "MANSI KHAMKAR",
      "photoUrl": "https://lh3.googleusercontent.com/a-/AOh14GhMFZb_-ee8qqaB-dV_gK7g_R_at5uh-HS8mBMQ=s64",
      "userId": "07862734149699594801"
     },
     "user_tz": -330
    },
    "id": "ikw6QVQ1x1Hg",
    "outputId": "1947f123-1301-4f57-dbbe-2df33ae5e2ae"
   },
   "outputs": [
    {
     "name": "stdout",
     "output_type": "stream",
     "text": [
      "Files already downloaded and verified\n",
      "50000 10000\n",
      "Files already downloaded and verified\n",
      "50000 10000\n"
     ]
    }
   ],
   "source": [
    "transform = transforms.Compose([transforms.ToTensor(),\n",
    "     transforms.Normalize((0.5, 0.5, 0.5), (0.5, 0.5, 0.5))])\n",
    "os.makedirs(\"data/cifar\", exist_ok=True)\n",
    "train_dataset_10 = CIFAR10(root='data/cifar', download=True, transform=transform)\n",
    "test_dataset_10 = CIFAR10(root='data/cifar', train=False, transform=transform)\n",
    "print(len(train_dataset_10), len(test_dataset_10))\n",
    "\n",
    "train_dataset_100 = CIFAR100(root='data/cifar', download=True, transform=transform)\n",
    "test_dataset_100 = CIFAR100(root='data/cifar', train=False, transform=transform)\n",
    "print(len(train_dataset_100), len(test_dataset_100))"
   ]
  },
  {
   "cell_type": "code",
   "execution_count": null,
   "metadata": {
    "colab": {
     "base_uri": "https://localhost:8080/"
    },
    "id": "ISYgKg5rx2KK",
    "outputId": "1159256f-f51a-4776-aeb5-89233c5a7bf1"
   },
   "outputs": [
    {
     "name": "stdout",
     "output_type": "stream",
     "text": [
      "cuda Tesla P100-PCIE-16GB\n",
      "Epoch:0   Loss:1.256   Val loss:1.041   Accuracy:64.043   Best val loss:1.041   Time taken:92.946\n",
      "Epoch:1   Loss:0.71   Val loss:0.812   Accuracy:72.29   Best val loss:0.812   Time taken:92.93\n",
      "Epoch:2   Loss:0.553   Val loss:0.683   Accuracy:76.553   Best val loss:0.683   Time taken:93.088\n",
      "Epoch:3   Loss:0.468   Val loss:0.532   Accuracy:81.942   Best val loss:0.532   Time taken:93.033\n",
      "Epoch:4   Loss:0.411   Val loss:0.707   Accuracy:76.839   Best val loss:0.532   Time taken:92.917\n",
      "Epoch:5   Loss:0.379   Val loss:0.649   Accuracy:77.532   Best val loss:0.532   Time taken:92.716\n",
      "Epoch:6   Loss:0.345   Val loss:0.589   Accuracy:80.795   Best val loss:0.532   Time taken:92.976\n",
      "Epoch:7   Loss:0.322   Val loss:0.808   Accuracy:74.654   Best val loss:0.532   Time taken:93.04\n",
      "Epoch:8   Loss:0.298   Val loss:0.534   Accuracy:82.15   Best val loss:0.532   Time taken:92.901\n",
      "Epoch:9   Loss:0.293   Val loss:0.775   Accuracy:76.147   Best val loss:0.532   Time taken:92.86\n",
      "Epoch:10   Loss:0.274   Val loss:0.675   Accuracy:77.68   Best val loss:0.532   Time taken:92.808\n",
      "Epoch:11   Loss:0.269   Val loss:0.563   Accuracy:81.339   Best val loss:0.532   Time taken:92.666\n",
      "Epoch:12   Loss:0.25   Val loss:0.596   Accuracy:80.973   Best val loss:0.532   Time taken:92.823\n",
      "Epoch:13   Loss:0.25   Val loss:0.732   Accuracy:78.926   Best val loss:0.532   Time taken:92.871\n",
      "Epoch:14   Loss:0.239   Val loss:0.53   Accuracy:82.882   Best val loss:0.53   Time taken:92.962\n",
      "Epoch:15   Loss:0.225   Val loss:0.562   Accuracy:82.288   Best val loss:0.53   Time taken:92.977\n",
      "Epoch:16   Loss:0.217   Val loss:0.676   Accuracy:80.142   Best val loss:0.53   Time taken:92.918\n",
      "Epoch:17   Loss:0.211   Val loss:0.454   Accuracy:85.018   Best val loss:0.454   Time taken:92.862\n",
      "Epoch:18   Loss:0.215   Val loss:0.616   Accuracy:80.934   Best val loss:0.454   Time taken:93.086\n",
      "Epoch:19   Loss:0.209   Val loss:0.526   Accuracy:82.733   Best val loss:0.454   Time taken:92.821\n",
      "Epoch:20   Loss:0.205   Val loss:0.585   Accuracy:81.171   Best val loss:0.454   Time taken:92.906\n",
      "Epoch:21   Loss:0.201   Val loss:0.55   Accuracy:82.852   Best val loss:0.454   Time taken:93.145\n",
      "Epoch:22   Loss:0.199   Val loss:0.634   Accuracy:81.181   Best val loss:0.454   Time taken:92.876\n",
      "Epoch:23   Loss:0.194   Val loss:0.481   Accuracy:83.831   Best val loss:0.454   Time taken:92.496\n",
      "Epoch:24   Loss:0.192   Val loss:0.507   Accuracy:83.515   Best val loss:0.454   Time taken:92.77\n",
      "Epoch:25   Loss:0.191   Val loss:0.534   Accuracy:83.347   Best val loss:0.454   Time taken:92.755\n",
      "Epoch:26   Loss:0.184   Val loss:0.51   Accuracy:83.881   Best val loss:0.454   Time taken:93.304\n",
      "Epoch:27   Loss:0.191   Val loss:0.612   Accuracy:80.943   Best val loss:0.454   Time taken:93.29\n",
      "Epoch:28   Loss:0.177   Val loss:0.777   Accuracy:77.749   Best val loss:0.454   Time taken:93.076\n",
      "Epoch:29   Loss:0.183   Val loss:0.554   Accuracy:82.902   Best val loss:0.454   Time taken:93.851\n",
      "Epoch:30   Loss:0.181   Val loss:0.485   Accuracy:85.136   Best val loss:0.454   Time taken:94.128\n",
      "Epoch:31   Loss:0.171   Val loss:0.61   Accuracy:81.982   Best val loss:0.454   Time taken:92.0\n",
      "Epoch:32   Loss:0.173   Val loss:0.505   Accuracy:83.89   Best val loss:0.454   Time taken:88.517\n",
      "Epoch:33   Loss:0.176   Val loss:0.864   Accuracy:76.889   Best val loss:0.454   Time taken:89.694\n",
      "Epoch:34   Loss:0.175   Val loss:0.601   Accuracy:82.358   Best val loss:0.454   Time taken:90.335\n",
      "Epoch:35   Loss:0.171   Val loss:0.55   Accuracy:83.366   Best val loss:0.454   Time taken:90.032\n",
      "Epoch:36   Loss:0.17   Val loss:0.606   Accuracy:81.566   Best val loss:0.454   Time taken:89.774\n",
      "Epoch:37   Loss:0.171   Val loss:0.594   Accuracy:80.914   Best val loss:0.454   Time taken:89.21\n",
      "Epoch:38   Loss:0.173   Val loss:0.467   Accuracy:85.136   Best val loss:0.454   Time taken:89.2\n",
      "Epoch:39   Loss:0.175   Val loss:0.474   Accuracy:84.731   Best val loss:0.454   Time taken:89.958\n",
      "Epoch:40   Loss:0.167   Val loss:0.564   Accuracy:83.604   Best val loss:0.454   Time taken:89.261\n",
      "Epoch:41   Loss:0.174   Val loss:0.624   Accuracy:80.924   Best val loss:0.454   Time taken:90.222\n",
      "Epoch:42   Loss:0.168   Val loss:0.54   Accuracy:82.773   Best val loss:0.454   Time taken:90.725\n",
      "Epoch:43   Loss:0.162   Val loss:0.514   Accuracy:83.851   Best val loss:0.454   Time taken:89.079\n",
      "Epoch:44   Loss:0.165   Val loss:0.532   Accuracy:83.623   Best val loss:0.454   Time taken:90.262\n",
      "Epoch:45   Loss:0.168   Val loss:0.569   Accuracy:82.822   Best val loss:0.454   Time taken:90.377\n",
      "Epoch:46   Loss:0.16   Val loss:0.54   Accuracy:83.119   Best val loss:0.454   Time taken:90.888\n",
      "Epoch:47   Loss:0.166   Val loss:0.651   Accuracy:79.124   Best val loss:0.454   Time taken:90.352\n",
      "Epoch:48   Loss:0.164   Val loss:0.609   Accuracy:81.537   Best val loss:0.454   Time taken:90.66\n",
      "Epoch:49   Loss:0.159   Val loss:0.569   Accuracy:83.159   Best val loss:0.454   Time taken:90.263\n"
     ]
    }
   ],
   "source": [
    "trainer = Net_Trainer(device, 'wrn', 'wrn_sgd_c10', train_dataset_10, test_dataset_10, lr=0.1, optm='sgd', loss='ce', batch_size=128, epochs=100, \n",
    "                      weight_decay=5e-4, smooth=False, lr_decay=0.2, step=[60,120,160], mom=0.9)\n",
    "best_epoch, losses, errors, accs = trainer.train()\n",
    "plot_train(losses, errors, accs)\n",
    "print('Best epoch:',best_epoch)"
   ]
  },
  {
   "cell_type": "code",
   "execution_count": null,
   "metadata": {
    "colab": {
     "base_uri": "https://localhost:8080/"
    },
    "id": "_BlPIdAtCTDa",
    "outputId": "4c6e41c2-cf6d-4dd5-89e1-a06422a40108"
   },
   "outputs": [
    {
     "name": "stdout",
     "output_type": "stream",
     "text": [
      "cuda Tesla K80\n",
      "Epoch:51   Loss:0.162   Val loss:0.49   Accuracy:84.494   Best val loss:0.454   Time taken:355.349\n",
      "Epoch:52   Loss:0.158   Val loss:0.765   Accuracy:79.233   Best val loss:0.454   Time taken:355.498\n",
      "Epoch:53   Loss:0.163   Val loss:0.532   Accuracy:83.683   Best val loss:0.454   Time taken:354.257\n",
      "Epoch:54   Loss:0.16   Val loss:0.667   Accuracy:80.172   Best val loss:0.454   Time taken:355.293\n",
      "Epoch:55   Loss:0.169   Val loss:0.491   Accuracy:84.187   Best val loss:0.454   Time taken:355.297\n",
      "Epoch:56   Loss:0.157   Val loss:0.62   Accuracy:81.626   Best val loss:0.454   Time taken:356.217\n",
      "Epoch:57   Loss:0.159   Val loss:0.516   Accuracy:84.167   Best val loss:0.454   Time taken:356.337\n",
      "Epoch:58   Loss:0.155   Val loss:0.56   Accuracy:83.416   Best val loss:0.454   Time taken:356.113\n",
      "Epoch:59   Loss:0.159   Val loss:0.526   Accuracy:83.92   Best val loss:0.454   Time taken:355.73\n",
      "Epoch:60   Loss:0.036   Val loss:0.31   Accuracy:90.516   Best val loss:0.31   Time taken:355.207\n",
      "Epoch:61   Loss:0.008   Val loss:0.314   Accuracy:90.951   Best val loss:0.31   Time taken:355.743\n",
      "Epoch:62   Loss:0.004   Val loss:0.315   Accuracy:91.317   Best val loss:0.31   Time taken:355.273\n",
      "Epoch:63   Loss:0.003   Val loss:0.312   Accuracy:91.139   Best val loss:0.31   Time taken:355.394\n",
      "Epoch:64   Loss:0.003   Val loss:0.315   Accuracy:91.218   Best val loss:0.31   Time taken:355.02\n",
      "Epoch:65   Loss:0.002   Val loss:0.313   Accuracy:91.08   Best val loss:0.31   Time taken:355.444\n",
      "Epoch:66   Loss:0.002   Val loss:0.313   Accuracy:91.268   Best val loss:0.31   Time taken:355.544\n",
      "Epoch:67   Loss:0.002   Val loss:0.318   Accuracy:91.199   Best val loss:0.31   Time taken:355.274\n",
      "Epoch:68   Loss:0.002   Val loss:0.32   Accuracy:91.169   Best val loss:0.31   Time taken:356.016\n",
      "Epoch:69   Loss:0.002   Val loss:0.323   Accuracy:91.278   Best val loss:0.31   Time taken:354.545\n",
      "Epoch:70   Loss:0.002   Val loss:0.324   Accuracy:91.268   Best val loss:0.31   Time taken:354.795\n",
      "Epoch:71   Loss:0.002   Val loss:0.328   Accuracy:91.218   Best val loss:0.31   Time taken:355.114\n",
      "Epoch:72   Loss:0.002   Val loss:0.335   Accuracy:91.001   Best val loss:0.31   Time taken:355.138\n",
      "Epoch:73   Loss:0.002   Val loss:0.341   Accuracy:91.011   Best val loss:0.31   Time taken:355.171\n",
      "Epoch:74   Loss:0.002   Val loss:0.446   Accuracy:88.143   Best val loss:0.31   Time taken:354.161\n",
      "Epoch:75   Loss:0.025   Val loss:0.469   Accuracy:87.055   Best val loss:0.31   Time taken:354.502\n",
      "Epoch:76   Loss:0.042   Val loss:0.478   Accuracy:87.124   Best val loss:0.31   Time taken:353.86\n",
      "Epoch:77   Loss:0.044   Val loss:0.457   Accuracy:86.768   Best val loss:0.31   Time taken:353.868\n",
      "Epoch:78   Loss:0.043   Val loss:0.608   Accuracy:84.83   Best val loss:0.31   Time taken:353.222\n",
      "Epoch:79   Loss:0.039   Val loss:0.574   Accuracy:85.235   Best val loss:0.31   Time taken:353.495\n",
      "Epoch:80   Loss:0.034   Val loss:0.416   Accuracy:88.469   Best val loss:0.31   Time taken:353.636\n",
      "Epoch:81   Loss:0.033   Val loss:0.44   Accuracy:87.965   Best val loss:0.31   Time taken:353.465\n",
      "Epoch:82   Loss:0.033   Val loss:0.459   Accuracy:87.451   Best val loss:0.31   Time taken:353.58\n",
      "Epoch:83   Loss:0.035   Val loss:0.541   Accuracy:86.116   Best val loss:0.31   Time taken:354.103\n",
      "Epoch:84   Loss:0.03   Val loss:0.45   Accuracy:87.767   Best val loss:0.31   Time taken:354.515\n",
      "Epoch:85   Loss:0.037   Val loss:0.493   Accuracy:87.055   Best val loss:0.31   Time taken:354.804\n",
      "Epoch:86   Loss:0.034   Val loss:0.549   Accuracy:85.542   Best val loss:0.31   Time taken:354.934\n",
      "Epoch:87   Loss:0.038   Val loss:0.595   Accuracy:84.682   Best val loss:0.31   Time taken:353.942\n",
      "Epoch:88   Loss:0.036   Val loss:0.49   Accuracy:86.907   Best val loss:0.31   Time taken:354.643\n",
      "Epoch:89   Loss:0.03   Val loss:0.506   Accuracy:87.065   Best val loss:0.31   Time taken:355.998\n"
     ]
    }
   ],
   "source": [
    "# Conitnue training by loading checkpoint\n",
    "# Best epoch = epoch with least val loss\n",
    "trainer = Net_Trainer(device, 'wrn', 'wrn_sgd_c10', train_dataset_10, test_dataset_10, load_ckpt='v1_ckpt_wrn_sgd_c10', lr=0.1, optm='sgd', loss='ce', batch_size=128, epochs=100, \n",
    "                      weight_decay=5e-4, smooth=False, lr_decay=0.2, step=[60,120,160], mom=0.9)\n",
    "best_epoch, losses, errors, accs = trainer.train()\n",
    "plot_train(losses, errors, accs)\n",
    "print('Best epoch:',best_epoch)"
   ]
  },
  {
   "cell_type": "code",
   "execution_count": null,
   "metadata": {
    "colab": {
     "base_uri": "https://localhost:8080/",
     "height": 777
    },
    "executionInfo": {
     "elapsed": 1686083,
     "status": "ok",
     "timestamp": 1619370820584,
     "user": {
      "displayName": "MANSI KHAMKAR",
      "photoUrl": "https://lh3.googleusercontent.com/a-/AOh14GhMFZb_-ee8qqaB-dV_gK7g_R_at5uh-HS8mBMQ=s64",
      "userId": "07862734149699594801"
     },
     "user_tz": -330
    },
    "id": "Q5MYYYnp6wXl",
    "outputId": "11ff0013-3c32-421d-886d-0adb8799cdf6"
   },
   "outputs": [
    {
     "name": "stdout",
     "output_type": "stream",
     "text": [
      "cuda Tesla T4\n",
      "Epoch:90   Loss:0.033   Val loss:0.47   Accuracy:87.273   Best val loss:0.31   Time taken:155.111\n",
      "Epoch:91   Loss:0.033   Val loss:0.531   Accuracy:86.234   Best val loss:0.31   Time taken:162.231\n",
      "Epoch:92   Loss:0.031   Val loss:0.483   Accuracy:86.778   Best val loss:0.31   Time taken:166.223\n",
      "Epoch:93   Loss:0.034   Val loss:0.513   Accuracy:86.402   Best val loss:0.31   Time taken:167.389\n",
      "Epoch:94   Loss:0.033   Val loss:0.514   Accuracy:86.135   Best val loss:0.31   Time taken:167.277\n",
      "Epoch:95   Loss:0.036   Val loss:0.514   Accuracy:86.383   Best val loss:0.31   Time taken:167.392\n",
      "Epoch:96   Loss:0.032   Val loss:0.563   Accuracy:85.641   Best val loss:0.31   Time taken:167.362\n",
      "Epoch:97   Loss:0.036   Val loss:0.447   Accuracy:88.182   Best val loss:0.31   Time taken:167.361\n",
      "Epoch:98   Loss:0.029   Val loss:0.497   Accuracy:86.491   Best val loss:0.31   Time taken:167.363\n",
      "Epoch:99   Loss:0.032   Val loss:0.613   Accuracy:84.444   Best val loss:0.31   Time taken:167.464\n"
     ]
    },
    {
     "data": {
      "image/png": "[encoded data removed]",
      "text/plain": [
       "<Figure size 432x288 with 1 Axes>"
      ]
     },
     "metadata": {
      "needs_background": "light",
      "tags": []
     },
     "output_type": "display_data"
    },
    {
     "data": {
      "image/png": "[encoded data removed]",
      "text/plain": [
       "<Figure size 432x288 with 1 Axes>"
      ]
     },
     "metadata": {
      "needs_background": "light",
      "tags": []
     },
     "output_type": "display_data"
    },
    {
     "name": "stdout",
     "output_type": "stream",
     "text": [
      "Best epoch: 60\n"
     ]
    }
   ],
   "source": [
    "# Conitnue training by loading checkpoint\n",
    "# Best epoch = epoch with least val loss\n",
    "trainer = Net_Trainer(device, 'wrn', 'wrn_sgd_c10', train_dataset_10, test_dataset_10, load_ckpt='v1_ckpt_wrn_sgd_c10', lr=0.1, optm='sgd', loss='ce', \n",
    "                      batch_size=128, epochs=100, weight_decay=5e-4, smooth=False, lr_decay=0.2, step=[60,120,160], mom=0.9)\n",
    "best_epoch, losses, errors, accs = trainer.train()\n",
    "plot_train(losses, errors, accs)\n",
    "print('Best epoch:',best_epoch)"
   ]
  }
 ],
 "metadata": {
  "accelerator": "GPU",
  "colab": {
   "name": "wrn_sgd_c10.ipynb",
   "provenance": []
  },
  "kernelspec": {
   "display_name": "Python 3",
   "language": "python",
   "name": "python3"
  },
  "language_info": {
   "codemirror_mode": {
    "name": "ipython",
    "version": 3
   },
   "file_extension": ".py",
   "mimetype": "text/x-python",
   "name": "python",
   "nbconvert_exporter": "python",
   "pygments_lexer": "ipython3",
   "version": "3.6.5"
  }
 },
 "nbformat": 4,
 "nbformat_minor": 1
}
