{
 "cells": [
  {
   "cell_type": "markdown",
   "metadata": {
    "id": "F2hv12elHUkk"
   },
   "source": [
    "# Training BiLSTM on SNLI using DFW"
   ]
  },
  {
   "cell_type": "code",
   "execution_count": 1,
   "metadata": {
    "colab": {
     "base_uri": "https://localhost:8080/"
    },
    "executionInfo": {
     "elapsed": 2985,
     "status": "ok",
     "timestamp": 1619449382782,
     "user": {
      "displayName": "MANSI KHAMKAR",
      "photoUrl": "https://lh3.googleusercontent.com/a-/AOh14GhMFZb_-ee8qqaB-dV_gK7g_R_at5uh-HS8mBMQ=s64",
      "userId": "07862734149699594801"
     },
     "user_tz": -330
    },
    "id": "x4cJFGwS4Foe",
    "outputId": "68ef3bf9-6232-45bc-8eb5-00d3962c6b40"
   },
   "outputs": [
    {
     "name": "stdout",
     "output_type": "stream",
     "text": [
      "Mounted at /content/drive\n",
      "/content/drive/MyDrive/DL_project\n",
      "/content/drive/MyDrive/DL_project\n"
     ]
    }
   ],
   "source": [
    "from google.colab import drive\n",
    "drive.mount('/content/drive', force_remount=True)\n",
    "%cd /content/drive/MyDrive/DL_project/\n",
    "!pwd"
   ]
  },
  {
   "cell_type": "code",
   "execution_count": 2,
   "metadata": {
    "executionInfo": {
     "elapsed": 2231,
     "status": "ok",
     "timestamp": 1619449418895,
     "user": {
      "displayName": "MANSI KHAMKAR",
      "photoUrl": "https://lh3.googleusercontent.com/a-/AOh14GhMFZb_-ee8qqaB-dV_gK7g_R_at5uh-HS8mBMQ=s64",
      "userId": "07862734149699594801"
     },
     "user_tz": -330
    },
    "id": "nLURgE-65F61"
   },
   "outputs": [],
   "source": [
    "import torch\n",
    "import torch.nn as nn\n",
    "import torchvision\n",
    "import numpy as np\n",
    "import matplotlib.pyplot as plt\n",
    "import torch.nn as nn\n",
    "import torch.nn.functional as F\n",
    "from torchvision.datasets import CIFAR10\n",
    "from torchvision.datasets import CIFAR100\n",
    "from torch.utils.data.dataloader import DataLoader\n",
    "from torchvision.transforms import *\n",
    "import os\n",
    "import time\n",
    "import gc\n",
    "import shutil\n",
    "import h5py\n",
    "\n",
    "from dfw.dfw import DFW\n",
    "from dfw.dfw.losses import set_smoothing_enabled\n",
    "from dfw.dfw.losses import MultiClassHingeLoss\n",
    "from dfw.experiments.InferSent.data import get_nli, get_batch, build_vocab\n",
    "from dfw.experiments.InferSent.models import NLINet\n",
    "\n",
    "from snli_train_utils import *"
   ]
  },
  {
   "cell_type": "code",
   "execution_count": 3,
   "metadata": {
    "colab": {
     "base_uri": "https://localhost:8080/"
    },
    "executionInfo": {
     "elapsed": 169116,
     "status": "ok",
     "timestamp": 1619449588226,
     "user": {
      "displayName": "MANSI KHAMKAR",
      "photoUrl": "https://lh3.googleusercontent.com/a-/AOh14GhMFZb_-ee8qqaB-dV_gK7g_R_at5uh-HS8mBMQ=s64",
      "userId": "07862734149699594801"
     },
     "user_tz": -330
    },
    "id": "g9ywtAAt-8qH",
    "outputId": "d4abc3a1-96ea-442f-de35-e08473e04578"
   },
   "outputs": [
    {
     "name": "stdout",
     "output_type": "stream",
     "text": [
      "** TRAIN DATA : Found 549367 pairs of train sentences.\n",
      "** DEV DATA : Found 9842 pairs of dev sentences.\n",
      "** TEST DATA : Found 9824 pairs of test sentences.\n",
      "Found 38957(/43479) words with glove vectors\n",
      "Vocab size : 38957\n"
     ]
    },
    {
     "name": "stderr",
     "output_type": "stream",
     "text": [
      "/usr/local/lib/python3.7/dist-packages/ipykernel_launcher.py:12: VisibleDeprecationWarning: Creating an ndarray from ragged nested sequences (which is a list-or-tuple of lists-or-tuples-or ndarrays with different lengths or shapes) is deprecated. If you meant to do this, you must specify 'dtype=object' when creating the ndarray\n",
      "  if sys.path[0] == '':\n"
     ]
    }
   ],
   "source": [
    "GLOVE_PATH = \"dfw/experiments/InferSent/dataset/GloVe/glove.840B.300d.txt\"\n",
    "nlipath = 'dfw/experiments/InferSent/dataset/SNLI'\n",
    "train, valid, test = get_nli(nlipath)\n",
    "word_vec = build_vocab(train['s1'] + train['s2'] +\n",
    "                       valid['s1'] + valid['s2'] +\n",
    "                       test['s1'] + test['s2'], GLOVE_PATH)\n",
    "\n",
    "for split in ['s1', 's2']:\n",
    "    for data_type in ['train', 'valid', 'test']:\n",
    "        eval(data_type)[split] = np.array([['<s>'] +\n",
    "            [word for word in sent.split() if word in word_vec] +\n",
    "            ['</s>'] for sent in eval(data_type)[split]])\n"
   ]
  },
  {
   "cell_type": "code",
   "execution_count": 4,
   "metadata": {
    "executionInfo": {
     "elapsed": 166768,
     "status": "ok",
     "timestamp": 1619449588228,
     "user": {
      "displayName": "MANSI KHAMKAR",
      "photoUrl": "https://lh3.googleusercontent.com/a-/AOh14GhMFZb_-ee8qqaB-dV_gK7g_R_at5uh-HS8mBMQ=s64",
      "userId": "07862734149699594801"
     },
     "user_tz": -330
    },
    "id": "EPhF30-jBOfu"
   },
   "outputs": [],
   "source": [
    "device = torch.device(\"cuda\" if torch.cuda.is_available() else \"cpu\")\n",
    "word_emb_dim = 300\n",
    "config_nli_model = {\n",
    "    'n_words'        :  len(word_vec)         ,\n",
    "    'word_emb_dim'   :  word_emb_dim   ,\n",
    "    'enc_lstm_dim'   :  2048   ,\n",
    "    'n_enc_layers'   :  1   ,\n",
    "    'dpout_model'    :  0.    ,\n",
    "    'dpout_fc'       :  0.       ,\n",
    "    'fc_dim'         :  512         ,\n",
    "    'bsize'          :  64     ,\n",
    "    'n_classes'      :  3      ,\n",
    "    'pool_type'      :  'max'      ,\n",
    "    'nonlinear_fc'   :  0   ,\n",
    "    'encoder_type'   :  'BLSTMEncoder'   ,\n",
    "    'use_cuda'       :  True                  ,\n",
    "\n",
    "}"
   ]
  },
  {
   "cell_type": "code",
   "execution_count": null,
   "metadata": {
    "colab": {
     "base_uri": "https://localhost:8080/"
    },
    "id": "cB6cyM6FNnbO",
    "outputId": "5cd91f1a-ab4b-4c2f-c97a-0c31e2a2b7e3"
   },
   "outputs": [
    {
     "name": "stdout",
     "output_type": "stream",
     "text": [
      "cuda Tesla T4\n",
      "Epoch:0   Loss:0.339   Val loss:1.354   Accuracy:45.094   Best val loss:1.354   Time taken:324.687\n",
      "Epoch:1   Loss:0.188   Val loss:1.248   Accuracy:47.156   Best val loss:1.248   Time taken:333.782\n",
      "Epoch:2   Loss:0.151   Val loss:1.438   Accuracy:43.844   Best val loss:1.248   Time taken:331.068\n",
      "Epoch:3   Loss:0.168   Val loss:1.326   Accuracy:43.609   Best val loss:1.248   Time taken:328.06\n",
      "Epoch:4   Loss:0.156   Val loss:1.275   Accuracy:50.938   Best val loss:1.248   Time taken:331.373\n",
      "Epoch:5   Loss:0.14   Val loss:1.258   Accuracy:49.766   Best val loss:1.248   Time taken:332.239\n",
      "Epoch:6   Loss:0.146   Val loss:1.438   Accuracy:48.547   Best val loss:1.248   Time taken:334.514\n",
      "Epoch:7   Loss:0.132   Val loss:1.333   Accuracy:51.484   Best val loss:1.248   Time taken:335.417\n",
      "Epoch:8   Loss:0.127   Val loss:1.175   Accuracy:53.688   Best val loss:1.175   Time taken:330.917\n",
      "Epoch:9   Loss:0.125   Val loss:1.204   Accuracy:53.719   Best val loss:1.175   Time taken:330.517\n",
      "Epoch:10   Loss:0.12   Val loss:1.208   Accuracy:57.141   Best val loss:1.175   Time taken:330.337\n",
      "Epoch:11   Loss:0.12   Val loss:1.243   Accuracy:54.594   Best val loss:1.175   Time taken:331.767\n",
      "Epoch:12   Loss:0.127   Val loss:1.02   Accuracy:63.75   Best val loss:1.02   Time taken:331.548\n",
      "Epoch:13   Loss:0.126   Val loss:1.193   Accuracy:56.734   Best val loss:1.02   Time taken:328.635\n",
      "Epoch:14   Loss:0.123   Val loss:1.164   Accuracy:56.25   Best val loss:1.02   Time taken:332.658\n",
      "Epoch:15   Loss:0.109   Val loss:1.179   Accuracy:54.969   Best val loss:1.02   Time taken:330.456\n",
      "Epoch:16   Loss:0.116   Val loss:1.153   Accuracy:53.062   Best val loss:1.02   Time taken:330.898\n",
      "Epoch:17   Loss:0.119   Val loss:1.234   Accuracy:49.141   Best val loss:1.02   Time taken:328.213\n",
      "Epoch:18   Loss:0.111   Val loss:1.316   Accuracy:51.859   Best val loss:1.02   Time taken:334.558\n",
      "Epoch:19   Loss:0.112   Val loss:1.337   Accuracy:51.938   Best val loss:1.02   Time taken:328.683\n",
      "Epoch:20   Loss:0.105   Val loss:1.151   Accuracy:55.938   Best val loss:1.02   Time taken:332.668\n",
      "Epoch:21   Loss:0.113   Val loss:1.101   Accuracy:61.266   Best val loss:1.02   Time taken:336.196\n",
      "Epoch:22   Loss:0.119   Val loss:1.181   Accuracy:51.203   Best val loss:1.02   Time taken:334.865\n",
      "Epoch:23   Loss:0.11   Val loss:1.242   Accuracy:57.469   Best val loss:1.02   Time taken:328.281\n",
      "Epoch:24   Loss:0.106   Val loss:1.175   Accuracy:52.031   Best val loss:1.02   Time taken:325.342\n",
      "Epoch:25   Loss:0.105   Val loss:1.178   Accuracy:53.844   Best val loss:1.02   Time taken:326.559\n",
      "Epoch:26   Loss:0.106   Val loss:1.133   Accuracy:56.672   Best val loss:1.02   Time taken:333.004\n",
      "Epoch:27   Loss:0.107   Val loss:1.335   Accuracy:51.031   Best val loss:1.02   Time taken:326.994\n",
      "Epoch:28   Loss:0.099   Val loss:1.342   Accuracy:53.938   Best val loss:1.02   Time taken:331.132\n",
      "Epoch:29   Loss:0.096   Val loss:1.139   Accuracy:53.609   Best val loss:1.02   Time taken:330.551\n"
     ]
    }
   ],
   "source": [
    "trainer = Net_Trainer(device, 'nli_dfw_snli', config_nli_model, word_vec, train, valid, test, lr=1.0, optm='dfw', loss='svm', batch_size=64, epochs=100, \n",
    "                          lr_decay=0.99, lr_shrink=5.0, weight_decay=0, mom=0, smooth=False)\n",
    "best_epoch, losses, errors, accs, testacc = trainer.train()\n",
    "plot_train(losses, errors, accs)\n",
    "print('Best epoch:',best_epoch)\n",
    "print('Test accuracy:',testacc,'%')"
   ]
  },
  {
   "cell_type": "code",
   "execution_count": null,
   "metadata": {
    "colab": {
     "base_uri": "https://localhost:8080/",
     "height": 816
    },
    "executionInfo": {
     "elapsed": 8213168,
     "status": "error",
     "timestamp": 1619439527030,
     "user": {
      "displayName": "Mansi Khamkar",
      "photoUrl": "",
      "userId": "07087059808651280926"
     },
     "user_tz": -330
    },
    "id": "nuge5xfw4-iU",
    "outputId": "ebb8b3e5-519d-4110-aadd-b11051570b33"
   },
   "outputs": [
    {
     "name": "stdout",
     "output_type": "stream",
     "text": [
      "cuda Tesla T4\n",
      "Epoch:30   Loss:0.103   Val loss:1.117   Accuracy:58.922   Best val loss:1.02   Time taken:340.386\n",
      "Epoch:31   Loss:0.096   Val loss:1.217   Accuracy:58.297   Best val loss:1.02   Time taken:341.433\n",
      "Epoch:32   Loss:0.089   Val loss:1.103   Accuracy:56.703   Best val loss:1.02   Time taken:340.224\n",
      "Epoch:33   Loss:0.11   Val loss:1.184   Accuracy:54.734   Best val loss:1.02   Time taken:344.373\n",
      "Epoch:34   Loss:0.1   Val loss:1.199   Accuracy:51.234   Best val loss:1.02   Time taken:340.976\n",
      "Epoch:35   Loss:0.095   Val loss:1.182   Accuracy:52.859   Best val loss:1.02   Time taken:344.155\n",
      "Epoch:36   Loss:0.102   Val loss:1.186   Accuracy:59.0   Best val loss:1.02   Time taken:339.629\n",
      "Epoch:37   Loss:0.101   Val loss:1.174   Accuracy:51.453   Best val loss:1.02   Time taken:341.703\n",
      "Epoch:38   Loss:0.091   Val loss:1.218   Accuracy:56.984   Best val loss:1.02   Time taken:339.084\n",
      "Epoch:39   Loss:0.102   Val loss:1.185   Accuracy:56.094   Best val loss:1.02   Time taken:343.576\n",
      "Epoch:40   Loss:0.088   Val loss:1.406   Accuracy:50.312   Best val loss:1.02   Time taken:336.719\n",
      "Epoch:41   Loss:0.088   Val loss:1.299   Accuracy:54.234   Best val loss:1.02   Time taken:338.441\n",
      "Epoch:42   Loss:0.073   Val loss:1.456   Accuracy:53.406   Best val loss:1.02   Time taken:339.394\n",
      "Epoch:43   Loss:0.094   Val loss:1.373   Accuracy:54.953   Best val loss:1.02   Time taken:337.9\n",
      "Epoch:44   Loss:0.085   Val loss:1.283   Accuracy:55.297   Best val loss:1.02   Time taken:337.763\n",
      "Epoch:45   Loss:0.091   Val loss:1.309   Accuracy:54.0   Best val loss:1.02   Time taken:339.944\n",
      "Epoch:46   Loss:0.087   Val loss:1.278   Accuracy:56.531   Best val loss:1.02   Time taken:339.369\n",
      "Epoch:47   Loss:0.098   Val loss:1.289   Accuracy:52.188   Best val loss:1.02   Time taken:333.956\n",
      "Epoch:48   Loss:0.09   Val loss:1.172   Accuracy:56.016   Best val loss:1.02   Time taken:336.905\n",
      "Epoch:49   Loss:0.094   Val loss:1.165   Accuracy:57.922   Best val loss:1.02   Time taken:333.903\n",
      "Epoch:50   Loss:0.103   Val loss:1.194   Accuracy:58.047   Best val loss:1.02   Time taken:333.411\n",
      "Epoch:51   Loss:0.088   Val loss:1.264   Accuracy:60.031   Best val loss:1.02   Time taken:334.933\n",
      "Epoch:52   Loss:0.092   Val loss:1.209   Accuracy:58.656   Best val loss:1.02   Time taken:334.603\n",
      "Epoch:53   Loss:0.099   Val loss:1.293   Accuracy:51.359   Best val loss:1.02   Time taken:338.169\n"
     ]
    },
    {
     "ename": "KeyboardInterrupt",
     "evalue": "ignored",
     "output_type": "error",
     "traceback": [
      "\u001b[0;31m---------------------------------------------------------------------------\u001b[0m",
      "\u001b[0;31mKeyboardInterrupt\u001b[0m                         Traceback (most recent call last)",
      "\u001b[0;32m<ipython-input-6-e895fd2701bb>\u001b[0m in \u001b[0;36m<module>\u001b[0;34m()\u001b[0m\n\u001b[1;32m      4\u001b[0m trainer = Net_Trainer(device, 'nli_dfw_snli', config_nli_model, word_vec, train, valid, test, load_ckpt='v1_ckpt_nli_dfw_snli', lr=1.0, optm='dfw', loss='svm', batch_size=64, epochs=100, \n\u001b[1;32m      5\u001b[0m                           lr_decay=0.99, lr_shrink=5.0, weight_decay=0, mom=0, smooth=False)\n\u001b[0;32m----> 6\u001b[0;31m \u001b[0mbest_epoch\u001b[0m\u001b[0;34m,\u001b[0m \u001b[0mlosses\u001b[0m\u001b[0;34m,\u001b[0m \u001b[0merrors\u001b[0m\u001b[0;34m,\u001b[0m \u001b[0maccs\u001b[0m\u001b[0;34m,\u001b[0m \u001b[0mtestacc\u001b[0m \u001b[0;34m=\u001b[0m \u001b[0mtrainer\u001b[0m\u001b[0;34m.\u001b[0m\u001b[0mtrain\u001b[0m\u001b[0;34m(\u001b[0m\u001b[0;34m)\u001b[0m\u001b[0;34m\u001b[0m\u001b[0;34m\u001b[0m\u001b[0m\n\u001b[0m\u001b[1;32m      7\u001b[0m \u001b[0mplot_train\u001b[0m\u001b[0;34m(\u001b[0m\u001b[0mlosses\u001b[0m\u001b[0;34m,\u001b[0m \u001b[0merrors\u001b[0m\u001b[0;34m,\u001b[0m \u001b[0maccs\u001b[0m\u001b[0;34m)\u001b[0m\u001b[0;34m\u001b[0m\u001b[0;34m\u001b[0m\u001b[0m\n\u001b[1;32m      8\u001b[0m \u001b[0mprint\u001b[0m\u001b[0;34m(\u001b[0m\u001b[0;34m'Best epoch:'\u001b[0m\u001b[0;34m,\u001b[0m\u001b[0mbest_epoch\u001b[0m\u001b[0;34m)\u001b[0m\u001b[0;34m\u001b[0m\u001b[0;34m\u001b[0m\u001b[0m\n",
      "\u001b[0;32m/content/drive/My Drive/DL_project/snli_train_utils.py\u001b[0m in \u001b[0;36mtrain\u001b[0;34m(self)\u001b[0m\n\u001b[1;32m    155\u001b[0m         \u001b[0;32mfor\u001b[0m \u001b[0mepoch\u001b[0m \u001b[0;32min\u001b[0m \u001b[0mrange\u001b[0m\u001b[0;34m(\u001b[0m\u001b[0mself\u001b[0m\u001b[0;34m.\u001b[0m\u001b[0mstart_epoch\u001b[0m\u001b[0;34m,\u001b[0m \u001b[0mself\u001b[0m\u001b[0;34m.\u001b[0m\u001b[0mepochs\u001b[0m\u001b[0;34m)\u001b[0m\u001b[0;34m:\u001b[0m\u001b[0;34m\u001b[0m\u001b[0;34m\u001b[0m\u001b[0m\n\u001b[1;32m    156\u001b[0m             \u001b[0mstart\u001b[0m \u001b[0;34m=\u001b[0m \u001b[0mtime\u001b[0m\u001b[0;34m.\u001b[0m\u001b[0mtime\u001b[0m\u001b[0;34m(\u001b[0m\u001b[0;34m)\u001b[0m\u001b[0;34m\u001b[0m\u001b[0;34m\u001b[0m\u001b[0m\n\u001b[0;32m--> 157\u001b[0;31m             \u001b[0mloss\u001b[0m \u001b[0;34m=\u001b[0m \u001b[0mself\u001b[0m\u001b[0;34m.\u001b[0m\u001b[0mtrain_epoch\u001b[0m\u001b[0;34m(\u001b[0m\u001b[0mepoch\u001b[0m\u001b[0;34m)\u001b[0m\u001b[0;34m\u001b[0m\u001b[0;34m\u001b[0m\u001b[0m\n\u001b[0m\u001b[1;32m    158\u001b[0m             \u001b[0;32mif\u001b[0m \u001b[0mepoch\u001b[0m\u001b[0;34m%\u001b[0m\u001b[0;36m1\u001b[0m \u001b[0;34m!=\u001b[0m \u001b[0;36m0\u001b[0m\u001b[0;34m:\u001b[0m\u001b[0;34m\u001b[0m\u001b[0;34m\u001b[0m\u001b[0m\n\u001b[1;32m    159\u001b[0m                 \u001b[0mprint\u001b[0m\u001b[0;34m(\u001b[0m\u001b[0;34m'Epoch:'\u001b[0m\u001b[0;34m+\u001b[0m\u001b[0mstr\u001b[0m\u001b[0;34m(\u001b[0m\u001b[0mepoch\u001b[0m\u001b[0;34m)\u001b[0m\u001b[0;34m,\u001b[0m\u001b[0;34m'  Loss:'\u001b[0m\u001b[0;34m+\u001b[0m\u001b[0mstr\u001b[0m\u001b[0;34m(\u001b[0m\u001b[0mround\u001b[0m\u001b[0;34m(\u001b[0m\u001b[0mloss\u001b[0m\u001b[0;34m,\u001b[0m\u001b[0;36m3\u001b[0m\u001b[0;34m)\u001b[0m\u001b[0;34m)\u001b[0m\u001b[0;34m)\u001b[0m\u001b[0;34m\u001b[0m\u001b[0;34m\u001b[0m\u001b[0m\n",
      "\u001b[0;32m/content/drive/My Drive/DL_project/snli_train_utils.py\u001b[0m in \u001b[0;36mtrain_epoch\u001b[0;34m(self, cur_epoch)\u001b[0m\n\u001b[1;32m    218\u001b[0m             \u001b[0;31m# print('*',proc_items)\u001b[0m\u001b[0;34m\u001b[0m\u001b[0;34m\u001b[0m\u001b[0;34m\u001b[0m\u001b[0m\n\u001b[1;32m    219\u001b[0m             \u001b[0mtorch\u001b[0m\u001b[0;34m.\u001b[0m\u001b[0mcuda\u001b[0m\u001b[0;34m.\u001b[0m\u001b[0mempty_cache\u001b[0m\u001b[0;34m(\u001b[0m\u001b[0;34m)\u001b[0m\u001b[0;34m\u001b[0m\u001b[0;34m\u001b[0m\u001b[0m\n\u001b[0;32m--> 220\u001b[0;31m             \u001b[0mgc\u001b[0m\u001b[0;34m.\u001b[0m\u001b[0mcollect\u001b[0m\u001b[0;34m(\u001b[0m\u001b[0;34m)\u001b[0m\u001b[0;34m\u001b[0m\u001b[0;34m\u001b[0m\u001b[0m\n\u001b[0m\u001b[1;32m    221\u001b[0m         \u001b[0;32mreturn\u001b[0m \u001b[0mlosses\u001b[0m\u001b[0;34m/\u001b[0m\u001b[0mbatches\u001b[0m\u001b[0;34m\u001b[0m\u001b[0;34m\u001b[0m\u001b[0m\n\u001b[1;32m    222\u001b[0m \u001b[0;34m\u001b[0m\u001b[0m\n",
      "\u001b[0;31mKeyboardInterrupt\u001b[0m: "
     ]
    }
   ],
   "source": [
    "# Conitnue training by loading checkpoint\n",
    "# Best epoch = epoch with least val loss\n",
    "trainer = Net_Trainer(device, 'nli_dfw_snli', config_nli_model, word_vec, train, valid, test, load_ckpt='v1_ckpt_nli_dfw_snli', lr=1.0, optm='dfw', loss='svm', batch_size=64, epochs=100, \n",
    "                          lr_decay=0.99, lr_shrink=5.0, weight_decay=0, mom=0, smooth=False)\n",
    "best_epoch, losses, errors, accs, testacc = trainer.train()\n",
    "plot_train(losses, errors, accs)\n",
    "print('Best epoch:',best_epoch)\n",
    "print('Test accuracy:',testacc,'%')"
   ]
  },
  {
   "cell_type": "code",
   "execution_count": 9,
   "metadata": {
    "colab": {
     "base_uri": "https://localhost:8080/",
     "height": 624
    },
    "executionInfo": {
     "elapsed": 60292,
     "status": "ok",
     "timestamp": 1619447618152,
     "user": {
      "displayName": "MANSI KHAMKAR",
      "photoUrl": "https://lh3.googleusercontent.com/a-/AOh14GhMFZb_-ee8qqaB-dV_gK7g_R_at5uh-HS8mBMQ=s64",
      "userId": "07862734149699594801"
     },
     "user_tz": -330
    },
    "id": "Qj7eVPAHiY81",
    "outputId": "d2db8794-6b4f-4355-f80a-0c4eab33aa37"
   },
   "outputs": [
    {
     "name": "stdout",
     "output_type": "stream",
     "text": [
      "cuda Tesla K80\n"
     ]
    },
    {
     "data": {
      "image/png": "[encoded data removed]",
      "text/plain": [
       "<Figure size 432x288 with 1 Axes>"
      ]
     },
     "metadata": {
      "needs_background": "light",
      "tags": []
     },
     "output_type": "display_data"
    },
    {
     "data": {
      "image/png": "[encoded data removed]",
      "text/plain": [
       "<Figure size 432x288 with 1 Axes>"
      ]
     },
     "metadata": {
      "needs_background": "light",
      "tags": []
     },
     "output_type": "display_data"
    },
    {
     "name": "stdout",
     "output_type": "stream",
     "text": [
      "Best epoch: 12\n",
      "Test accuracy: 57.859375 %\n"
     ]
    }
   ],
   "source": [
    "# This cell is used only to plot graphs till epoch 40\n",
    "trainer = Net_Trainer(device, 'nli_dfw_snli', config_nli_model, word_vec, train, valid, test, load_ckpt='v1_ckpt_nli_dfw_snli_ep39', lr=1.0, optm='dfw', loss='svm', \n",
    "                      batch_size=64, epochs=40, lr_decay=0.99, lr_shrink=5.0, weight_decay=0, mom=0, smooth=False)\n",
    "best_epoch, losses, errors, accs, testacc = trainer.train()\n",
    "plot_train(losses, errors, accs)\n",
    "print('Best epoch:',best_epoch)\n",
    "print('Test accuracy:',testacc,'%')"
   ]
  },
  {
   "cell_type": "code",
   "execution_count": 5,
   "metadata": {
    "colab": {
     "base_uri": "https://localhost:8080/"
    },
    "executionInfo": {
     "elapsed": 70303,
     "status": "ok",
     "timestamp": 1619449658552,
     "user": {
      "displayName": "MANSI KHAMKAR",
      "photoUrl": "https://lh3.googleusercontent.com/a-/AOh14GhMFZb_-ee8qqaB-dV_gK7g_R_at5uh-HS8mBMQ=s64",
      "userId": "07862734149699594801"
     },
     "user_tz": -330
    },
    "id": "WXnom5Zqq51A",
    "outputId": "a23b5bdb-3465-44f3-f58a-877ae0e6c9c3"
   },
   "outputs": [
    {
     "name": "stdout",
     "output_type": "stream",
     "text": [
      "Test accuracy of best model: 58.171875\n"
     ]
    }
   ],
   "source": [
    "best_acc = test_model(device, config_nli_model, 'v1_ckpt_nli_dfw_snli_best', test, 64, word_vec)\n",
    "print('Test accuracy of best model:',best_acc)"
   ]
  }
 ],
 "metadata": {
  "accelerator": "GPU",
  "colab": {
   "collapsed_sections": [],
   "name": "blstm_dfw_snli.ipynb",
   "provenance": []
  },
  "kernelspec": {
   "display_name": "Python 3",
   "language": "python",
   "name": "python3"
  },
  "language_info": {
   "codemirror_mode": {
    "name": "ipython",
    "version": 3
   },
   "file_extension": ".py",
   "mimetype": "text/x-python",
   "name": "python",
   "nbconvert_exporter": "python",
   "pygments_lexer": "ipython3",
   "version": "3.6.5"
  }
 },
 "nbformat": 4,
 "nbformat_minor": 1
}
