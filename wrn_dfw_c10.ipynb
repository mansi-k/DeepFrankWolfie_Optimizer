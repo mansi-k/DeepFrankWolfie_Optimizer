{
 "cells": [
  {
   "cell_type": "markdown",
   "metadata": {
    "id": "D8mTA6N9FhYW"
   },
   "source": [
    "# Training WideResNet on Cifar10 using DFW"
   ]
  },
  {
   "cell_type": "code",
   "execution_count": null,
   "metadata": {
    "colab": {
     "base_uri": "https://localhost:8080/"
    },
    "executionInfo": {
     "elapsed": 2136,
     "status": "ok",
     "timestamp": 1619336416846,
     "user": {
      "displayName": "Mansi Khamkar",
      "photoUrl": "",
      "userId": "07087059808651280926"
     },
     "user_tz": -330
    },
    "id": "8RhnLkxuxe_m",
    "outputId": "b2e45d9a-5a49-47e5-a326-60616f2c8610"
   },
   "outputs": [
    {
     "name": "stdout",
     "output_type": "stream",
     "text": [
      "Mounted at /content/drive\n",
      "/content/drive/MyDrive/DL_project\n",
      "/content/drive/MyDrive/DL_project\n"
     ]
    }
   ],
   "source": [
    "from google.colab import drive\n",
    "drive.mount('/content/drive', force_remount=True)\n",
    "%cd /content/drive/MyDrive/DL_project/\n",
    "!pwd"
   ]
  },
  {
   "cell_type": "code",
   "execution_count": null,
   "metadata": {
    "id": "aD3z7C8Wxvmb"
   },
   "outputs": [],
   "source": [
    "import torch\n",
    "import torch.nn as nn\n",
    "import torchvision\n",
    "import numpy as np\n",
    "import matplotlib.pyplot as plt\n",
    "import torch.nn as nn\n",
    "import torch.nn.functional as F\n",
    "from torchvision.datasets import CIFAR10\n",
    "from torchvision.datasets import CIFAR100\n",
    "from torch.utils.data.dataloader import DataLoader\n",
    "from torchvision.transforms import *\n",
    "import os\n",
    "import time\n",
    "import gc\n",
    "import shutil\n",
    "import h5py\n",
    "\n",
    "from dfw.dfw import DFW\n",
    "from dfw.dfw.losses import set_smoothing_enabled\n",
    "from dfw.dfw.losses import MultiClassHingeLoss\n",
    "from dfw.experiments.models.densenet import DenseNet3\n",
    "from dfw.experiments.models.wide_resnet import WideResNet\n",
    "\n",
    "from train_utils import *"
   ]
  },
  {
   "cell_type": "code",
   "execution_count": null,
   "metadata": {
    "colab": {
     "base_uri": "https://localhost:8080/"
    },
    "executionInfo": {
     "elapsed": 5111,
     "status": "ok",
     "timestamp": 1619336450871,
     "user": {
      "displayName": "Mansi Khamkar",
      "photoUrl": "",
      "userId": "07087059808651280926"
     },
     "user_tz": -330
    },
    "id": "ikw6QVQ1x1Hg",
    "outputId": "d4f3f3fc-9a1a-45c7-dc89-3dbc8bdc367d"
   },
   "outputs": [
    {
     "name": "stdout",
     "output_type": "stream",
     "text": [
      "Files already downloaded and verified\n",
      "50000 10000\n",
      "Files already downloaded and verified\n",
      "50000 10000\n"
     ]
    }
   ],
   "source": [
    "transform = transforms.Compose([transforms.ToTensor(),\n",
    "     transforms.Normalize((0.5, 0.5, 0.5), (0.5, 0.5, 0.5))])\n",
    "os.makedirs(\"data/cifar\", exist_ok=True)\n",
    "train_dataset_10 = CIFAR10(root='data/cifar', download=True, transform=transform)\n",
    "test_dataset_10 = CIFAR10(root='data/cifar', train=False, transform=transform)\n",
    "print(len(train_dataset_10), len(test_dataset_10))\n",
    "\n",
    "train_dataset_100 = CIFAR100(root='data/cifar', download=True, transform=transform)\n",
    "test_dataset_100 = CIFAR100(root='data/cifar', train=False, transform=transform)\n",
    "print(len(train_dataset_100), len(test_dataset_100))"
   ]
  },
  {
   "cell_type": "code",
   "execution_count": null,
   "metadata": {
    "colab": {
     "base_uri": "https://localhost:8080/"
    },
    "id": "ISYgKg5rx2KK",
    "outputId": "1e67a53f-a8ff-4bf1-d681-73bb224bbbe1"
   },
   "outputs": [
    {
     "name": "stdout",
     "output_type": "stream",
     "text": [
      "cuda Tesla T4\n",
      "Epoch:0   Loss:0.82   Val loss:1.323   Accuracy:46.549   Best val loss:1.323   Time taken:170.656\n",
      "Epoch:1   Loss:0.567   Val loss:0.95   Accuracy:62.648   Best val loss:0.95   Time taken:170.26\n",
      "Epoch:2   Loss:0.428   Val loss:0.825   Accuracy:68.305   Best val loss:0.825   Time taken:169.958\n",
      "Epoch:3   Loss:0.359   Val loss:0.933   Accuracy:65.763   Best val loss:0.825   Time taken:169.937\n",
      "Epoch:4   Loss:0.332   Val loss:0.581   Accuracy:76.978   Best val loss:0.581   Time taken:169.473\n",
      "Epoch:5   Loss:0.304   Val loss:0.845   Accuracy:69.284   Best val loss:0.581   Time taken:169.655\n",
      "Epoch:6   Loss:0.289   Val loss:1.012   Accuracy:64.132   Best val loss:0.581   Time taken:169.203\n",
      "Epoch:7   Loss:0.28   Val loss:0.678   Accuracy:74.575   Best val loss:0.581   Time taken:169.273\n",
      "Epoch:8   Loss:0.269   Val loss:0.637   Accuracy:76.859   Best val loss:0.581   Time taken:169.535\n",
      "Epoch:9   Loss:0.261   Val loss:0.599   Accuracy:77.403   Best val loss:0.581   Time taken:169.614\n",
      "Epoch:10   Loss:0.253   Val loss:0.569   Accuracy:78.758   Best val loss:0.569   Time taken:169.42\n",
      "Epoch:11   Loss:0.25   Val loss:0.685   Accuracy:75.386   Best val loss:0.569   Time taken:169.466\n",
      "Epoch:12   Loss:0.243   Val loss:0.88   Accuracy:68.869   Best val loss:0.569   Time taken:168.443\n",
      "Epoch:13   Loss:0.239   Val loss:0.598   Accuracy:76.622   Best val loss:0.569   Time taken:168.87\n",
      "Epoch:14   Loss:0.235   Val loss:0.527   Accuracy:79.974   Best val loss:0.527   Time taken:169.591\n",
      "Epoch:15   Loss:0.225   Val loss:0.608   Accuracy:77.888   Best val loss:0.527   Time taken:169.719\n",
      "Epoch:16   Loss:0.225   Val loss:0.589   Accuracy:78.174   Best val loss:0.527   Time taken:169.586\n",
      "Epoch:17   Loss:0.22   Val loss:0.785   Accuracy:72.211   Best val loss:0.527   Time taken:169.224\n",
      "Epoch:18   Loss:0.219   Val loss:0.529   Accuracy:80.192   Best val loss:0.527   Time taken:168.021\n",
      "Epoch:19   Loss:0.214   Val loss:0.637   Accuracy:76.998   Best val loss:0.527   Time taken:168.011\n",
      "Epoch:20   Loss:0.211   Val loss:0.602   Accuracy:76.81   Best val loss:0.527   Time taken:169.087\n",
      "Epoch:21   Loss:0.207   Val loss:0.736   Accuracy:72.676   Best val loss:0.527   Time taken:169.121\n",
      "Epoch:22   Loss:0.203   Val loss:0.562   Accuracy:79.262   Best val loss:0.527   Time taken:168.641\n",
      "Epoch:23   Loss:0.202   Val loss:0.617   Accuracy:77.275   Best val loss:0.527   Time taken:168.17\n",
      "Epoch:24   Loss:0.197   Val loss:0.707   Accuracy:75.91   Best val loss:0.527   Time taken:168.751\n",
      "Epoch:25   Loss:0.192   Val loss:0.61   Accuracy:77.65   Best val loss:0.527   Time taken:168.731\n",
      "Epoch:26   Loss:0.181   Val loss:0.619   Accuracy:78.807   Best val loss:0.527   Time taken:169.019\n",
      "Epoch:27   Loss:0.17   Val loss:0.567   Accuracy:78.135   Best val loss:0.527   Time taken:168.848\n",
      "Epoch:28   Loss:0.151   Val loss:0.596   Accuracy:78.649   Best val loss:0.527   Time taken:168.634\n",
      "Epoch:29   Loss:0.128   Val loss:0.447   Accuracy:83.653   Best val loss:0.447   Time taken:168.929\n",
      "Epoch:30   Loss:0.086   Val loss:0.375   Accuracy:86.027   Best val loss:0.375   Time taken:168.445\n",
      "Epoch:31   Loss:0.043   Val loss:0.36   Accuracy:87.5   Best val loss:0.36   Time taken:167.459\n",
      "Epoch:32   Loss:0.018   Val loss:0.288   Accuracy:89.606   Best val loss:0.288   Time taken:166.722\n",
      "Epoch:33   Loss:0.009   Val loss:0.277   Accuracy:89.804   Best val loss:0.277   Time taken:167.737\n",
      "Epoch:34   Loss:0.005   Val loss:0.26   Accuracy:90.081   Best val loss:0.26   Time taken:167.936\n",
      "Epoch:35   Loss:0.004   Val loss:0.256   Accuracy:89.982   Best val loss:0.256   Time taken:167.448\n",
      "Epoch:36   Loss:0.003   Val loss:0.26   Accuracy:89.943   Best val loss:0.256   Time taken:166.958\n",
      "Epoch:37   Loss:0.003   Val loss:0.243   Accuracy:90.378   Best val loss:0.243   Time taken:167.962\n",
      "Epoch:38   Loss:0.002   Val loss:0.24   Accuracy:90.506   Best val loss:0.24   Time taken:167.676\n",
      "Epoch:39   Loss:0.002   Val loss:0.232   Accuracy:90.585   Best val loss:0.232   Time taken:167.824\n",
      "Epoch:40   Loss:0.002   Val loss:0.236   Accuracy:90.427   Best val loss:0.232   Time taken:167.982\n",
      "Epoch:41   Loss:0.002   Val loss:0.237   Accuracy:90.526   Best val loss:0.232   Time taken:168.062\n",
      "Epoch:42   Loss:0.002   Val loss:0.231   Accuracy:90.506   Best val loss:0.231   Time taken:168.386\n",
      "Epoch:43   Loss:0.002   Val loss:0.231   Accuracy:90.467   Best val loss:0.231   Time taken:168.106\n",
      "Epoch:44   Loss:0.002   Val loss:0.228   Accuracy:90.437   Best val loss:0.228   Time taken:167.848\n",
      "Epoch:45   Loss:0.002   Val loss:0.229   Accuracy:90.338   Best val loss:0.228   Time taken:168.817\n",
      "Epoch:46   Loss:0.003   Val loss:0.233   Accuracy:90.249   Best val loss:0.228   Time taken:168.435\n",
      "Epoch:47   Loss:0.002   Val loss:0.229   Accuracy:90.398   Best val loss:0.228   Time taken:168.222\n",
      "Epoch:48   Loss:0.002   Val loss:0.228   Accuracy:90.407   Best val loss:0.228   Time taken:168.551\n",
      "Epoch:49   Loss:0.003   Val loss:0.227   Accuracy:90.467   Best val loss:0.227   Time taken:168.4\n",
      "Epoch:50   Loss:0.003   Val loss:0.228   Accuracy:90.388   Best val loss:0.227   Time taken:168.574\n",
      "Epoch:51   Loss:0.003   Val loss:0.229   Accuracy:90.18   Best val loss:0.227   Time taken:168.592\n",
      "Epoch:52   Loss:0.002   Val loss:0.227   Accuracy:90.21   Best val loss:0.227   Time taken:168.384\n",
      "Epoch:53   Loss:0.002   Val loss:0.228   Accuracy:90.477   Best val loss:0.227   Time taken:168.804\n",
      "Epoch:54   Loss:0.003   Val loss:0.231   Accuracy:90.338   Best val loss:0.227   Time taken:168.998\n",
      "Epoch:55   Loss:0.003   Val loss:0.231   Accuracy:90.249   Best val loss:0.227   Time taken:169.136\n",
      "Epoch:56   Loss:0.002   Val loss:0.226   Accuracy:90.437   Best val loss:0.226   Time taken:169.013\n",
      "Epoch:57   Loss:0.003   Val loss:0.227   Accuracy:90.556   Best val loss:0.226   Time taken:169.3\n",
      "Epoch:58   Loss:0.002   Val loss:0.229   Accuracy:90.536   Best val loss:0.226   Time taken:168.941\n",
      "Epoch:59   Loss:0.002   Val loss:0.225   Accuracy:90.843   Best val loss:0.225   Time taken:169.334\n",
      "Epoch:60   Loss:0.002   Val loss:0.229   Accuracy:90.279   Best val loss:0.225   Time taken:169.53\n",
      "Epoch:61   Loss:0.003   Val loss:0.227   Accuracy:90.536   Best val loss:0.225   Time taken:169.653\n",
      "Epoch:62   Loss:0.003   Val loss:0.233   Accuracy:89.923   Best val loss:0.225   Time taken:169.808\n",
      "Epoch:63   Loss:0.003   Val loss:0.229   Accuracy:90.259   Best val loss:0.225   Time taken:169.597\n",
      "Epoch:64   Loss:0.002   Val loss:0.238   Accuracy:89.844   Best val loss:0.225   Time taken:169.251\n",
      "Epoch:65   Loss:0.002   Val loss:0.236   Accuracy:90.269   Best val loss:0.225   Time taken:169.451\n",
      "Epoch:66   Loss:0.002   Val loss:0.233   Accuracy:90.22   Best val loss:0.225   Time taken:170.075\n",
      "Epoch:67   Loss:0.002   Val loss:0.23   Accuracy:90.21   Best val loss:0.225   Time taken:170.15\n",
      "Epoch:68   Loss:0.003   Val loss:0.229   Accuracy:90.18   Best val loss:0.225   Time taken:169.906\n"
     ]
    }
   ],
   "source": [
    "trainer = Net_Trainer(device, 'wrn', 'wrn_dfw_c10', train_dataset_10, test_dataset_10, lr=1.0, optm='dfw', \n",
    "                      loss='svm', batch_size=128, epochs=100, weight_decay=1e-4, smooth=True, mom=0.9)\n",
    "best_epoch, losses, errors, accs = trainer.train()\n",
    "plot_train(losses, errors, accs)\n",
    "print('Best epoch:',best_epoch)"
   ]
  },
  {
   "cell_type": "code",
   "execution_count": null,
   "metadata": {
    "colab": {
     "base_uri": "https://localhost:8080/",
     "height": 894
    },
    "executionInfo": {
     "elapsed": 5055524,
     "status": "error",
     "timestamp": 1619334614798,
     "user": {
      "displayName": "Mansi Khamkar",
      "photoUrl": "",
      "userId": "07087059808651280926"
     },
     "user_tz": -330
    },
    "id": "SA2o8bBUjRRz",
    "outputId": "91e514b0-2e75-478d-86a1-f4d6cafaf5bb"
   },
   "outputs": [
    {
     "name": "stdout",
     "output_type": "stream",
     "text": [
      "cuda Tesla T4\n",
      "Epoch:69   Loss:0.002   Val loss:0.238   Accuracy:89.794   Best val loss:0.225   Time taken:161.225\n",
      "Epoch:70   Loss:0.002   Val loss:0.233   Accuracy:89.962   Best val loss:0.225   Time taken:162.912\n",
      "Epoch:71   Loss:0.003   Val loss:0.232   Accuracy:90.042   Best val loss:0.225   Time taken:162.638\n",
      "Epoch:72   Loss:0.002   Val loss:0.232   Accuracy:90.101   Best val loss:0.225   Time taken:162.789\n",
      "Epoch:73   Loss:0.002   Val loss:0.236   Accuracy:89.656   Best val loss:0.225   Time taken:162.737\n",
      "Epoch:74   Loss:0.002   Val loss:0.237   Accuracy:89.557   Best val loss:0.225   Time taken:162.66\n",
      "Epoch:75   Loss:0.002   Val loss:0.229   Accuracy:90.012   Best val loss:0.225   Time taken:162.738\n",
      "Epoch:76   Loss:0.002   Val loss:0.233   Accuracy:89.775   Best val loss:0.225   Time taken:162.519\n",
      "Epoch:77   Loss:0.002   Val loss:0.23   Accuracy:89.903   Best val loss:0.225   Time taken:162.603\n",
      "Epoch:78   Loss:0.002   Val loss:0.234   Accuracy:89.389   Best val loss:0.225   Time taken:162.55\n",
      "Epoch:79   Loss:0.002   Val loss:0.228   Accuracy:89.933   Best val loss:0.225   Time taken:162.509\n",
      "Epoch:80   Loss:0.002   Val loss:0.237   Accuracy:89.508   Best val loss:0.225   Time taken:162.278\n",
      "Epoch:81   Loss:0.002   Val loss:0.23   Accuracy:89.735   Best val loss:0.225   Time taken:162.278\n",
      "Epoch:82   Loss:0.002   Val loss:0.233   Accuracy:89.27   Best val loss:0.225   Time taken:162.286\n",
      "Epoch:83   Loss:0.002   Val loss:0.267   Accuracy:88.014   Best val loss:0.225   Time taken:162.229\n",
      "Epoch:84   Loss:0.003   Val loss:0.23   Accuracy:89.399   Best val loss:0.225   Time taken:162.415\n",
      "Epoch:85   Loss:0.002   Val loss:0.235   Accuracy:89.201   Best val loss:0.225   Time taken:162.033\n",
      "Epoch:86   Loss:0.002   Val loss:0.225   Accuracy:89.537   Best val loss:0.225   Time taken:162.253\n",
      "Epoch:87   Loss:0.002   Val loss:0.234   Accuracy:89.033   Best val loss:0.225   Time taken:162.431\n",
      "Epoch:88   Loss:0.002   Val loss:0.231   Accuracy:89.458   Best val loss:0.225   Time taken:162.135\n",
      "Epoch:89   Loss:0.003   Val loss:0.323   Accuracy:86.294   Best val loss:0.225   Time taken:162.012\n",
      "Epoch:90   Loss:0.003   Val loss:0.222   Accuracy:89.725   Best val loss:0.222   Time taken:162.027\n",
      "Epoch:91   Loss:0.002   Val loss:0.228   Accuracy:89.389   Best val loss:0.222   Time taken:161.7\n",
      "Epoch:92   Loss:0.003   Val loss:0.247   Accuracy:88.311   Best val loss:0.222   Time taken:162.231\n",
      "Epoch:93   Loss:0.002   Val loss:0.242   Accuracy:88.627   Best val loss:0.222   Time taken:161.997\n",
      "Epoch:94   Loss:0.003   Val loss:0.24   Accuracy:88.855   Best val loss:0.222   Time taken:162.465\n",
      "Epoch:95   Loss:0.003   Val loss:0.225   Accuracy:89.191   Best val loss:0.222   Time taken:163.25\n",
      "Epoch:96   Loss:0.003   Val loss:0.234   Accuracy:88.954   Best val loss:0.222   Time taken:162.124\n",
      "Epoch:97   Loss:0.003   Val loss:0.241   Accuracy:88.41   Best val loss:0.222   Time taken:161.967\n",
      "Epoch:98   Loss:0.004   Val loss:0.238   Accuracy:88.835   Best val loss:0.222   Time taken:162.05\n",
      "Epoch:99   Loss:0.004   Val loss:0.252   Accuracy:88.004   Best val loss:0.222   Time taken:162.07\n"
     ]
    },
    {
     "ename": "NameError",
     "evalue": "ignored",
     "output_type": "error",
     "traceback": [
      "\u001b[0;31m---------------------------------------------------------------------------\u001b[0m",
      "\u001b[0;31mNameError\u001b[0m                                 Traceback (most recent call last)",
      "\u001b[0;32m<ipython-input-5-c8466e301ce7>\u001b[0m in \u001b[0;36m<module>\u001b[0;34m()\u001b[0m\n\u001b[1;32m      1\u001b[0m \u001b[0mtrainer\u001b[0m \u001b[0;34m=\u001b[0m \u001b[0mNet_Trainer\u001b[0m\u001b[0;34m(\u001b[0m\u001b[0mdevice\u001b[0m\u001b[0;34m,\u001b[0m \u001b[0;34m'wrn'\u001b[0m\u001b[0;34m,\u001b[0m \u001b[0;34m'wrn_dfw_c10'\u001b[0m\u001b[0;34m,\u001b[0m \u001b[0mtrain_dataset_10\u001b[0m\u001b[0;34m,\u001b[0m \u001b[0mtest_dataset_10\u001b[0m\u001b[0;34m,\u001b[0m \u001b[0mload_ckpt\u001b[0m\u001b[0;34m=\u001b[0m\u001b[0;34m'v1_ckpt_wrn_dfw_c10'\u001b[0m\u001b[0;34m,\u001b[0m \u001b[0mlr\u001b[0m\u001b[0;34m=\u001b[0m\u001b[0;36m1.0\u001b[0m\u001b[0;34m,\u001b[0m \u001b[0moptm\u001b[0m\u001b[0;34m=\u001b[0m\u001b[0;34m'dfw'\u001b[0m\u001b[0;34m,\u001b[0m \u001b[0mloss\u001b[0m\u001b[0;34m=\u001b[0m\u001b[0;34m'svm'\u001b[0m\u001b[0;34m,\u001b[0m \u001b[0mbatch_size\u001b[0m\u001b[0;34m=\u001b[0m\u001b[0;36m128\u001b[0m\u001b[0;34m,\u001b[0m \u001b[0mepochs\u001b[0m\u001b[0;34m=\u001b[0m\u001b[0;36m100\u001b[0m\u001b[0;34m,\u001b[0m \u001b[0mweight_decay\u001b[0m\u001b[0;34m=\u001b[0m\u001b[0;36m1e-4\u001b[0m\u001b[0;34m,\u001b[0m \u001b[0msmooth\u001b[0m\u001b[0;34m=\u001b[0m\u001b[0;32mTrue\u001b[0m\u001b[0;34m)\u001b[0m\u001b[0;34m\u001b[0m\u001b[0;34m\u001b[0m\u001b[0m\n\u001b[1;32m      2\u001b[0m \u001b[0mbest_epoch\u001b[0m\u001b[0;34m,\u001b[0m \u001b[0mlosses\u001b[0m\u001b[0;34m,\u001b[0m \u001b[0merrors\u001b[0m\u001b[0;34m,\u001b[0m \u001b[0maccs\u001b[0m \u001b[0;34m=\u001b[0m \u001b[0mtrainer\u001b[0m\u001b[0;34m.\u001b[0m\u001b[0mtrain\u001b[0m\u001b[0;34m(\u001b[0m\u001b[0;34m)\u001b[0m\u001b[0;34m\u001b[0m\u001b[0;34m\u001b[0m\u001b[0m\n\u001b[0;32m----> 3\u001b[0;31m \u001b[0mplot_train\u001b[0m\u001b[0;34m(\u001b[0m\u001b[0mlosses\u001b[0m\u001b[0;34m,\u001b[0m \u001b[0merrors\u001b[0m\u001b[0;34m,\u001b[0m \u001b[0maccs\u001b[0m\u001b[0;34m)\u001b[0m\u001b[0;34m\u001b[0m\u001b[0;34m\u001b[0m\u001b[0m\n\u001b[0m\u001b[1;32m      4\u001b[0m \u001b[0mprint\u001b[0m\u001b[0;34m(\u001b[0m\u001b[0;34m'Best epoch:'\u001b[0m\u001b[0;34m,\u001b[0m\u001b[0mbest_epoch\u001b[0m\u001b[0;34m)\u001b[0m\u001b[0;34m\u001b[0m\u001b[0;34m\u001b[0m\u001b[0m\n",
      "\u001b[0;32m/content/drive/My Drive/DL_project/train_utils.py\u001b[0m in \u001b[0;36mplot_train\u001b[0;34m(losses, errors, accs)\u001b[0m\n\u001b[1;32m     63\u001b[0m \u001b[0;34m\u001b[0m\u001b[0m\n\u001b[1;32m     64\u001b[0m \u001b[0;32mdef\u001b[0m \u001b[0mplot_train\u001b[0m\u001b[0;34m(\u001b[0m\u001b[0mlosses\u001b[0m\u001b[0;34m,\u001b[0m \u001b[0merrors\u001b[0m\u001b[0;34m,\u001b[0m \u001b[0maccs\u001b[0m\u001b[0;34m)\u001b[0m\u001b[0;34m:\u001b[0m\u001b[0;34m\u001b[0m\u001b[0;34m\u001b[0m\u001b[0m\n\u001b[0;32m---> 65\u001b[0;31m     \u001b[0mplt\u001b[0m\u001b[0;34m.\u001b[0m\u001b[0mplot\u001b[0m\u001b[0;34m(\u001b[0m\u001b[0mrange\u001b[0m\u001b[0;34m(\u001b[0m\u001b[0mlen\u001b[0m\u001b[0;34m(\u001b[0m\u001b[0mlosses\u001b[0m\u001b[0;34m)\u001b[0m\u001b[0;34m)\u001b[0m\u001b[0;34m,\u001b[0m \u001b[0mlosses\u001b[0m\u001b[0;34m,\u001b[0m \u001b[0mlabel\u001b[0m \u001b[0;34m=\u001b[0m \u001b[0;34m\"Train loss\"\u001b[0m\u001b[0;34m,\u001b[0m \u001b[0mcolor\u001b[0m\u001b[0;34m=\u001b[0m\u001b[0;34m'blue'\u001b[0m\u001b[0;34m)\u001b[0m\u001b[0;34m\u001b[0m\u001b[0;34m\u001b[0m\u001b[0m\n\u001b[0m\u001b[1;32m     66\u001b[0m     \u001b[0mplt\u001b[0m\u001b[0;34m.\u001b[0m\u001b[0mplot\u001b[0m\u001b[0;34m(\u001b[0m\u001b[0mrange\u001b[0m\u001b[0;34m(\u001b[0m\u001b[0mlen\u001b[0m\u001b[0;34m(\u001b[0m\u001b[0merrors\u001b[0m\u001b[0;34m)\u001b[0m\u001b[0;34m)\u001b[0m\u001b[0;34m,\u001b[0m \u001b[0merrors\u001b[0m\u001b[0;34m,\u001b[0m \u001b[0mlabel\u001b[0m \u001b[0;34m=\u001b[0m \u001b[0;34m\"Val loss\"\u001b[0m\u001b[0;34m,\u001b[0m \u001b[0mcolor\u001b[0m\u001b[0;34m=\u001b[0m\u001b[0;34m'red'\u001b[0m\u001b[0;34m)\u001b[0m\u001b[0;34m\u001b[0m\u001b[0;34m\u001b[0m\u001b[0m\n\u001b[1;32m     67\u001b[0m     \u001b[0mplt\u001b[0m\u001b[0;34m.\u001b[0m\u001b[0mxlabel\u001b[0m\u001b[0;34m(\u001b[0m\u001b[0;34m'Epochs'\u001b[0m\u001b[0;34m)\u001b[0m\u001b[0;34m\u001b[0m\u001b[0;34m\u001b[0m\u001b[0m\n",
      "\u001b[0;31mNameError\u001b[0m: name 'plt' is not defined"
     ]
    }
   ],
   "source": [
    "# Conitnue training by loading checkpoint\n",
    "# Best epoch = epoch with least val loss\n",
    "trainer = Net_Trainer(device, 'wrn', 'wrn_dfw_c10', train_dataset_10, test_dataset_10, load_ckpt='v1_ckpt_wrn_dfw_c10', lr=1.0, optm='dfw', loss='svm', batch_size=128, epochs=100, weight_decay=1e-4, smooth=True)\n",
    "best_epoch, losses, errors, accs = trainer.train()\n",
    "plot_train(losses, errors, accs)\n",
    "print('Best epoch:',best_epoch)"
   ]
  },
  {
   "cell_type": "code",
   "execution_count": null,
   "metadata": {
    "colab": {
     "base_uri": "https://localhost:8080/",
     "height": 607
    },
    "executionInfo": {
     "elapsed": 5830,
     "status": "ok",
     "timestamp": 1619336460169,
     "user": {
      "displayName": "Mansi Khamkar",
      "photoUrl": "",
      "userId": "07087059808651280926"
     },
     "user_tz": -330
    },
    "id": "64_rC4Gt-JZ2",
    "outputId": "a1af4acf-4b38-497f-afee-62a986cc2f0d"
   },
   "outputs": [
    {
     "name": "stdout",
     "output_type": "stream",
     "text": [
      "cuda Tesla T4\n"
     ]
    },
    {
     "data": {
      "image/png": "[encoded data removed]",
      "text/plain": [
       "<Figure size 432x288 with 1 Axes>"
      ]
     },
     "metadata": {
      "needs_background": "light",
      "tags": []
     },
     "output_type": "display_data"
    },
    {
     "data": {
      "image/png": "[encoded data removed]",
      "text/plain": [
       "<Figure size 432x288 with 1 Axes>"
      ]
     },
     "metadata": {
      "needs_background": "light",
      "tags": []
     },
     "output_type": "display_data"
    },
    {
     "name": "stdout",
     "output_type": "stream",
     "text": [
      "Best epoch: 90\n"
     ]
    }
   ],
   "source": [
    "# Conitnue training by loading checkpoint\n",
    "# Best epoch = epoch with least val loss\n",
    "# This cell is used only to plot the graphs\n",
    "trainer = Net_Trainer(device, 'wrn', 'wrn_dfw_c10', train_dataset_10, test_dataset_10, load_ckpt='v1_ckpt_wrn_dfw_c10', lr=1.0, optm='dfw', loss='svm', \n",
    "                      batch_size=128, epochs=100, weight_decay=1e-4, smooth=True)\n",
    "best_epoch, losses, errors, accs = trainer.train()\n",
    "plot_train(losses, errors, accs)\n",
    "print('Best epoch:',best_epoch)"
   ]
  }
 ],
 "metadata": {
  "accelerator": "GPU",
  "colab": {
   "name": "wrn_dfw_c10.ipynb",
   "provenance": []
  },
  "kernelspec": {
   "display_name": "Python 3",
   "language": "python",
   "name": "python3"
  },
  "language_info": {
   "codemirror_mode": {
    "name": "ipython",
    "version": 3
   },
   "file_extension": ".py",
   "mimetype": "text/x-python",
   "name": "python",
   "nbconvert_exporter": "python",
   "pygments_lexer": "ipython3",
   "version": "3.6.5"
  }
 },
 "nbformat": 4,
 "nbformat_minor": 1
}
